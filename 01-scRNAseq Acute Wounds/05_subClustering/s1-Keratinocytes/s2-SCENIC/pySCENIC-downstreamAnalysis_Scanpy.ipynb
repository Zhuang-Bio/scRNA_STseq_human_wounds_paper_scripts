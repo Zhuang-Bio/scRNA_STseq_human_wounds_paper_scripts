{
 "cells": [
  {
   "cell_type": "markdown",
   "metadata": {},
   "source": [
    "# Downstream analysis after getting loom file from pySCENIC in linux"
   ]
  },
  {
   "cell_type": "code",
   "execution_count": 1,
   "metadata": {},
   "outputs": [],
   "source": [
    "import os, glob, re, pickle\n",
    "from functools import partial\n",
    "from collections import OrderedDict\n",
    "import operator as op\n",
    "from cytoolz import compose\n",
    "\n",
    "import pandas as pd\n",
    "import seaborn as sns\n",
    "import numpy as np\n",
    "import scanpy as sc\n",
    "import anndata as ad\n",
    "import loompy as lp\n",
    "import matplotlib as mpl\n",
    "import matplotlib.pyplot as plt\n",
    "\n",
    "from pyscenic.export import export2loom, add_scenic_metadata\n",
    "from pyscenic.utils import load_motifs\n",
    "from pyscenic.transform import df2regulons\n",
    "from pyscenic.aucell import aucell\n",
    "from pyscenic.binarization import binarize\n",
    "from pyscenic.rss import regulon_specificity_scores\n",
    "from pyscenic.plotting import plot_binarization, plot_rss\n",
    "\n",
    "from IPython.display import HTML, display"
   ]
  },
  {
   "cell_type": "code",
   "execution_count": 2,
   "metadata": {},
   "outputs": [],
   "source": [
    "BASE_URL = \"http://motifcollections.aertslab.org/v9/logos/\"\n",
    "COLUMN_NAME_LOGO = \"MotifLogo\"\n",
    "COLUMN_NAME_MOTIF_ID = \"MotifID\"\n",
    "COLUMN_NAME_TARGETS = \"TargetGenes\""
   ]
  },
  {
   "cell_type": "markdown",
   "metadata": {},
   "source": [
    "# Load loom file (Direct result from linux pipeline)"
   ]
  },
  {
   "cell_type": "code",
   "execution_count": 3,
   "metadata": {},
   "outputs": [],
   "source": [
    "f_pyscenic_output = \"hswound_SCENIC_AUC.loom\""
   ]
  },
  {
   "cell_type": "markdown",
   "metadata": {},
   "source": [
    "# Visualization of SCENIC's AUC matrix"
   ]
  },
  {
   "cell_type": "code",
   "execution_count": 4,
   "metadata": {
    "scrolled": true
   },
   "outputs": [],
   "source": [
    "import json\n",
    "import zlib\n",
    "import base64\n",
    "\n",
    "# collect SCENIC AUCell output\n",
    "lf = lp.connect(f_pyscenic_output, mode='r+', validate=False)\n",
    "auc_mtx = pd.DataFrame(lf.ca.RegulonsAUC, index=lf.ca.CellID)\n",
    "exprMat = pd.DataFrame( lf[:,:], index=lf.ra.Gene, columns=lf.ca.CellID).T\n",
    "lf.close()"
   ]
  },
  {
   "cell_type": "code",
   "execution_count": 14,
   "metadata": {
    "scrolled": false
   },
   "outputs": [
    {
     "data": {
      "text/html": [
       "<div>\n",
       "<style scoped>\n",
       "    .dataframe tbody tr th:only-of-type {\n",
       "        vertical-align: middle;\n",
       "    }\n",
       "\n",
       "    .dataframe tbody tr th {\n",
       "        vertical-align: top;\n",
       "    }\n",
       "\n",
       "    .dataframe thead th {\n",
       "        text-align: right;\n",
       "    }\n",
       "</style>\n",
       "<table border=\"1\" class=\"dataframe\">\n",
       "  <thead>\n",
       "    <tr style=\"text-align: right;\">\n",
       "      <th></th>\n",
       "      <th>ALX1(+)</th>\n",
       "      <th>ALX3(+)</th>\n",
       "      <th>AR(+)</th>\n",
       "      <th>ARID3A(+)</th>\n",
       "      <th>ASCL2(+)</th>\n",
       "      <th>ATF1(+)</th>\n",
       "      <th>ATF3(+)</th>\n",
       "      <th>ATF4(+)</th>\n",
       "      <th>ATF6(+)</th>\n",
       "      <th>ATOH7(+)</th>\n",
       "      <th>...</th>\n",
       "      <th>ZNF572(+)</th>\n",
       "      <th>ZNF585B(+)</th>\n",
       "      <th>ZNF658(+)</th>\n",
       "      <th>ZNF718(+)</th>\n",
       "      <th>ZNF770(+)</th>\n",
       "      <th>ZNF831(+)</th>\n",
       "      <th>ZNF84(+)</th>\n",
       "      <th>ZNF91(+)</th>\n",
       "      <th>ZNF93(+)</th>\n",
       "      <th>ZSCAN32(+)</th>\n",
       "    </tr>\n",
       "  </thead>\n",
       "  <tbody>\n",
       "    <tr>\n",
       "      <th>PWH26D0_AAACCCACACGTAACT-1</th>\n",
       "      <td>0.0</td>\n",
       "      <td>0.0</td>\n",
       "      <td>0.058398</td>\n",
       "      <td>0.019416</td>\n",
       "      <td>0.045190</td>\n",
       "      <td>0.000000</td>\n",
       "      <td>0.045398</td>\n",
       "      <td>0.063308</td>\n",
       "      <td>0.150970</td>\n",
       "      <td>0.000000</td>\n",
       "      <td>...</td>\n",
       "      <td>0.000000</td>\n",
       "      <td>0.0</td>\n",
       "      <td>0.00000</td>\n",
       "      <td>0.0</td>\n",
       "      <td>0.071300</td>\n",
       "      <td>0.000000</td>\n",
       "      <td>0.000000</td>\n",
       "      <td>0.052019</td>\n",
       "      <td>0.000000</td>\n",
       "      <td>0.0</td>\n",
       "    </tr>\n",
       "    <tr>\n",
       "      <th>PWH26D0_AAACCCACACTGAGGA-1</th>\n",
       "      <td>0.0</td>\n",
       "      <td>0.0</td>\n",
       "      <td>0.051158</td>\n",
       "      <td>0.003124</td>\n",
       "      <td>0.135355</td>\n",
       "      <td>0.000000</td>\n",
       "      <td>0.050433</td>\n",
       "      <td>0.062439</td>\n",
       "      <td>0.021464</td>\n",
       "      <td>0.018321</td>\n",
       "      <td>...</td>\n",
       "      <td>0.000000</td>\n",
       "      <td>0.0</td>\n",
       "      <td>0.00993</td>\n",
       "      <td>0.0</td>\n",
       "      <td>0.041542</td>\n",
       "      <td>0.007047</td>\n",
       "      <td>0.013153</td>\n",
       "      <td>0.049284</td>\n",
       "      <td>0.000000</td>\n",
       "      <td>0.0</td>\n",
       "    </tr>\n",
       "    <tr>\n",
       "      <th>PWH26D0_AAACCCAGTCCGACGT-1</th>\n",
       "      <td>0.0</td>\n",
       "      <td>0.0</td>\n",
       "      <td>0.077220</td>\n",
       "      <td>0.000000</td>\n",
       "      <td>0.050965</td>\n",
       "      <td>0.000000</td>\n",
       "      <td>0.052129</td>\n",
       "      <td>0.064804</td>\n",
       "      <td>0.057357</td>\n",
       "      <td>0.000000</td>\n",
       "      <td>...</td>\n",
       "      <td>0.000000</td>\n",
       "      <td>0.0</td>\n",
       "      <td>0.00000</td>\n",
       "      <td>0.0</td>\n",
       "      <td>0.035784</td>\n",
       "      <td>0.000000</td>\n",
       "      <td>0.000000</td>\n",
       "      <td>0.039423</td>\n",
       "      <td>0.000000</td>\n",
       "      <td>0.0</td>\n",
       "    </tr>\n",
       "    <tr>\n",
       "      <th>PWH26D0_AAACCCATCAGCGGAA-1</th>\n",
       "      <td>0.0</td>\n",
       "      <td>0.0</td>\n",
       "      <td>0.077714</td>\n",
       "      <td>0.022184</td>\n",
       "      <td>0.168175</td>\n",
       "      <td>0.000000</td>\n",
       "      <td>0.056860</td>\n",
       "      <td>0.065688</td>\n",
       "      <td>0.056271</td>\n",
       "      <td>0.000000</td>\n",
       "      <td>...</td>\n",
       "      <td>0.000000</td>\n",
       "      <td>0.0</td>\n",
       "      <td>0.00000</td>\n",
       "      <td>0.0</td>\n",
       "      <td>0.066357</td>\n",
       "      <td>0.000000</td>\n",
       "      <td>0.039777</td>\n",
       "      <td>0.048886</td>\n",
       "      <td>0.000000</td>\n",
       "      <td>0.0</td>\n",
       "    </tr>\n",
       "    <tr>\n",
       "      <th>PWH26D0_AAACGAACAATGAAAC-1</th>\n",
       "      <td>0.0</td>\n",
       "      <td>0.0</td>\n",
       "      <td>0.071070</td>\n",
       "      <td>0.013943</td>\n",
       "      <td>0.062128</td>\n",
       "      <td>0.000000</td>\n",
       "      <td>0.049599</td>\n",
       "      <td>0.068665</td>\n",
       "      <td>0.118490</td>\n",
       "      <td>0.000000</td>\n",
       "      <td>...</td>\n",
       "      <td>0.000000</td>\n",
       "      <td>0.0</td>\n",
       "      <td>0.00000</td>\n",
       "      <td>0.0</td>\n",
       "      <td>0.049841</td>\n",
       "      <td>0.001535</td>\n",
       "      <td>0.000317</td>\n",
       "      <td>0.044769</td>\n",
       "      <td>0.000000</td>\n",
       "      <td>0.0</td>\n",
       "    </tr>\n",
       "    <tr>\n",
       "      <th>...</th>\n",
       "      <td>...</td>\n",
       "      <td>...</td>\n",
       "      <td>...</td>\n",
       "      <td>...</td>\n",
       "      <td>...</td>\n",
       "      <td>...</td>\n",
       "      <td>...</td>\n",
       "      <td>...</td>\n",
       "      <td>...</td>\n",
       "      <td>...</td>\n",
       "      <td>...</td>\n",
       "      <td>...</td>\n",
       "      <td>...</td>\n",
       "      <td>...</td>\n",
       "      <td>...</td>\n",
       "      <td>...</td>\n",
       "      <td>...</td>\n",
       "      <td>...</td>\n",
       "      <td>...</td>\n",
       "      <td>...</td>\n",
       "      <td>...</td>\n",
       "    </tr>\n",
       "    <tr>\n",
       "      <th>PWH28D7_TTTGGAGGTGCCTAAT-1</th>\n",
       "      <td>0.0</td>\n",
       "      <td>0.0</td>\n",
       "      <td>0.003396</td>\n",
       "      <td>0.000000</td>\n",
       "      <td>0.068399</td>\n",
       "      <td>0.000000</td>\n",
       "      <td>0.040923</td>\n",
       "      <td>0.053780</td>\n",
       "      <td>0.021671</td>\n",
       "      <td>0.000000</td>\n",
       "      <td>...</td>\n",
       "      <td>0.000000</td>\n",
       "      <td>0.0</td>\n",
       "      <td>0.00000</td>\n",
       "      <td>0.0</td>\n",
       "      <td>0.008158</td>\n",
       "      <td>0.000000</td>\n",
       "      <td>0.000000</td>\n",
       "      <td>0.009213</td>\n",
       "      <td>0.000000</td>\n",
       "      <td>0.0</td>\n",
       "    </tr>\n",
       "    <tr>\n",
       "      <th>PWH28D7_TTTGGAGTCGAGTCCG-1</th>\n",
       "      <td>0.0</td>\n",
       "      <td>0.0</td>\n",
       "      <td>0.007443</td>\n",
       "      <td>0.002537</td>\n",
       "      <td>0.082083</td>\n",
       "      <td>0.000000</td>\n",
       "      <td>0.042368</td>\n",
       "      <td>0.053955</td>\n",
       "      <td>0.055081</td>\n",
       "      <td>0.000000</td>\n",
       "      <td>...</td>\n",
       "      <td>0.020623</td>\n",
       "      <td>0.0</td>\n",
       "      <td>0.00000</td>\n",
       "      <td>0.0</td>\n",
       "      <td>0.015321</td>\n",
       "      <td>0.001552</td>\n",
       "      <td>0.005748</td>\n",
       "      <td>0.016533</td>\n",
       "      <td>0.000000</td>\n",
       "      <td>0.0</td>\n",
       "    </tr>\n",
       "    <tr>\n",
       "      <th>PWH28D7_TTTGTTGAGGTCCTGC-1</th>\n",
       "      <td>0.0</td>\n",
       "      <td>0.0</td>\n",
       "      <td>0.079086</td>\n",
       "      <td>0.020338</td>\n",
       "      <td>0.248017</td>\n",
       "      <td>0.038305</td>\n",
       "      <td>0.058176</td>\n",
       "      <td>0.062778</td>\n",
       "      <td>0.150711</td>\n",
       "      <td>0.055320</td>\n",
       "      <td>...</td>\n",
       "      <td>0.000000</td>\n",
       "      <td>0.0</td>\n",
       "      <td>0.00000</td>\n",
       "      <td>0.0</td>\n",
       "      <td>0.036262</td>\n",
       "      <td>0.000145</td>\n",
       "      <td>0.042246</td>\n",
       "      <td>0.059916</td>\n",
       "      <td>0.107215</td>\n",
       "      <td>0.0</td>\n",
       "    </tr>\n",
       "    <tr>\n",
       "      <th>PWH28D7_TTTGTTGAGTAGACCG-1</th>\n",
       "      <td>0.0</td>\n",
       "      <td>0.0</td>\n",
       "      <td>0.083449</td>\n",
       "      <td>0.013147</td>\n",
       "      <td>0.129730</td>\n",
       "      <td>0.000000</td>\n",
       "      <td>0.061383</td>\n",
       "      <td>0.060217</td>\n",
       "      <td>0.017585</td>\n",
       "      <td>0.000000</td>\n",
       "      <td>...</td>\n",
       "      <td>0.000000</td>\n",
       "      <td>0.0</td>\n",
       "      <td>0.00000</td>\n",
       "      <td>0.0</td>\n",
       "      <td>0.051032</td>\n",
       "      <td>0.000000</td>\n",
       "      <td>0.028070</td>\n",
       "      <td>0.052173</td>\n",
       "      <td>0.000000</td>\n",
       "      <td>0.0</td>\n",
       "    </tr>\n",
       "    <tr>\n",
       "      <th>PWH28D7_TTTGTTGGTAGCGTAG-1</th>\n",
       "      <td>0.0</td>\n",
       "      <td>0.0</td>\n",
       "      <td>0.010929</td>\n",
       "      <td>0.053530</td>\n",
       "      <td>0.024265</td>\n",
       "      <td>0.000000</td>\n",
       "      <td>0.035731</td>\n",
       "      <td>0.049274</td>\n",
       "      <td>0.202948</td>\n",
       "      <td>0.000000</td>\n",
       "      <td>...</td>\n",
       "      <td>0.000000</td>\n",
       "      <td>0.0</td>\n",
       "      <td>0.00000</td>\n",
       "      <td>0.0</td>\n",
       "      <td>0.105059</td>\n",
       "      <td>0.017682</td>\n",
       "      <td>0.046195</td>\n",
       "      <td>0.062543</td>\n",
       "      <td>0.000000</td>\n",
       "      <td>0.0</td>\n",
       "    </tr>\n",
       "  </tbody>\n",
       "</table>\n",
       "<p>27105 rows × 384 columns</p>\n",
       "</div>"
      ],
      "text/plain": [
       "                            ALX1(+)  ALX3(+)     AR(+)  ARID3A(+)  ASCL2(+)  \\\n",
       "PWH26D0_AAACCCACACGTAACT-1      0.0      0.0  0.058398   0.019416  0.045190   \n",
       "PWH26D0_AAACCCACACTGAGGA-1      0.0      0.0  0.051158   0.003124  0.135355   \n",
       "PWH26D0_AAACCCAGTCCGACGT-1      0.0      0.0  0.077220   0.000000  0.050965   \n",
       "PWH26D0_AAACCCATCAGCGGAA-1      0.0      0.0  0.077714   0.022184  0.168175   \n",
       "PWH26D0_AAACGAACAATGAAAC-1      0.0      0.0  0.071070   0.013943  0.062128   \n",
       "...                             ...      ...       ...        ...       ...   \n",
       "PWH28D7_TTTGGAGGTGCCTAAT-1      0.0      0.0  0.003396   0.000000  0.068399   \n",
       "PWH28D7_TTTGGAGTCGAGTCCG-1      0.0      0.0  0.007443   0.002537  0.082083   \n",
       "PWH28D7_TTTGTTGAGGTCCTGC-1      0.0      0.0  0.079086   0.020338  0.248017   \n",
       "PWH28D7_TTTGTTGAGTAGACCG-1      0.0      0.0  0.083449   0.013147  0.129730   \n",
       "PWH28D7_TTTGTTGGTAGCGTAG-1      0.0      0.0  0.010929   0.053530  0.024265   \n",
       "\n",
       "                             ATF1(+)   ATF3(+)   ATF4(+)   ATF6(+)  ATOH7(+)  \\\n",
       "PWH26D0_AAACCCACACGTAACT-1  0.000000  0.045398  0.063308  0.150970  0.000000   \n",
       "PWH26D0_AAACCCACACTGAGGA-1  0.000000  0.050433  0.062439  0.021464  0.018321   \n",
       "PWH26D0_AAACCCAGTCCGACGT-1  0.000000  0.052129  0.064804  0.057357  0.000000   \n",
       "PWH26D0_AAACCCATCAGCGGAA-1  0.000000  0.056860  0.065688  0.056271  0.000000   \n",
       "PWH26D0_AAACGAACAATGAAAC-1  0.000000  0.049599  0.068665  0.118490  0.000000   \n",
       "...                              ...       ...       ...       ...       ...   \n",
       "PWH28D7_TTTGGAGGTGCCTAAT-1  0.000000  0.040923  0.053780  0.021671  0.000000   \n",
       "PWH28D7_TTTGGAGTCGAGTCCG-1  0.000000  0.042368  0.053955  0.055081  0.000000   \n",
       "PWH28D7_TTTGTTGAGGTCCTGC-1  0.038305  0.058176  0.062778  0.150711  0.055320   \n",
       "PWH28D7_TTTGTTGAGTAGACCG-1  0.000000  0.061383  0.060217  0.017585  0.000000   \n",
       "PWH28D7_TTTGTTGGTAGCGTAG-1  0.000000  0.035731  0.049274  0.202948  0.000000   \n",
       "\n",
       "                            ...  ZNF572(+)  ZNF585B(+)  ZNF658(+)  ZNF718(+)  \\\n",
       "PWH26D0_AAACCCACACGTAACT-1  ...   0.000000         0.0    0.00000        0.0   \n",
       "PWH26D0_AAACCCACACTGAGGA-1  ...   0.000000         0.0    0.00993        0.0   \n",
       "PWH26D0_AAACCCAGTCCGACGT-1  ...   0.000000         0.0    0.00000        0.0   \n",
       "PWH26D0_AAACCCATCAGCGGAA-1  ...   0.000000         0.0    0.00000        0.0   \n",
       "PWH26D0_AAACGAACAATGAAAC-1  ...   0.000000         0.0    0.00000        0.0   \n",
       "...                         ...        ...         ...        ...        ...   \n",
       "PWH28D7_TTTGGAGGTGCCTAAT-1  ...   0.000000         0.0    0.00000        0.0   \n",
       "PWH28D7_TTTGGAGTCGAGTCCG-1  ...   0.020623         0.0    0.00000        0.0   \n",
       "PWH28D7_TTTGTTGAGGTCCTGC-1  ...   0.000000         0.0    0.00000        0.0   \n",
       "PWH28D7_TTTGTTGAGTAGACCG-1  ...   0.000000         0.0    0.00000        0.0   \n",
       "PWH28D7_TTTGTTGGTAGCGTAG-1  ...   0.000000         0.0    0.00000        0.0   \n",
       "\n",
       "                            ZNF770(+)  ZNF831(+)  ZNF84(+)  ZNF91(+)  \\\n",
       "PWH26D0_AAACCCACACGTAACT-1   0.071300   0.000000  0.000000  0.052019   \n",
       "PWH26D0_AAACCCACACTGAGGA-1   0.041542   0.007047  0.013153  0.049284   \n",
       "PWH26D0_AAACCCAGTCCGACGT-1   0.035784   0.000000  0.000000  0.039423   \n",
       "PWH26D0_AAACCCATCAGCGGAA-1   0.066357   0.000000  0.039777  0.048886   \n",
       "PWH26D0_AAACGAACAATGAAAC-1   0.049841   0.001535  0.000317  0.044769   \n",
       "...                               ...        ...       ...       ...   \n",
       "PWH28D7_TTTGGAGGTGCCTAAT-1   0.008158   0.000000  0.000000  0.009213   \n",
       "PWH28D7_TTTGGAGTCGAGTCCG-1   0.015321   0.001552  0.005748  0.016533   \n",
       "PWH28D7_TTTGTTGAGGTCCTGC-1   0.036262   0.000145  0.042246  0.059916   \n",
       "PWH28D7_TTTGTTGAGTAGACCG-1   0.051032   0.000000  0.028070  0.052173   \n",
       "PWH28D7_TTTGTTGGTAGCGTAG-1   0.105059   0.017682  0.046195  0.062543   \n",
       "\n",
       "                            ZNF93(+)  ZSCAN32(+)  \n",
       "PWH26D0_AAACCCACACGTAACT-1  0.000000         0.0  \n",
       "PWH26D0_AAACCCACACTGAGGA-1  0.000000         0.0  \n",
       "PWH26D0_AAACCCAGTCCGACGT-1  0.000000         0.0  \n",
       "PWH26D0_AAACCCATCAGCGGAA-1  0.000000         0.0  \n",
       "PWH26D0_AAACGAACAATGAAAC-1  0.000000         0.0  \n",
       "...                              ...         ...  \n",
       "PWH28D7_TTTGGAGGTGCCTAAT-1  0.000000         0.0  \n",
       "PWH28D7_TTTGGAGTCGAGTCCG-1  0.000000         0.0  \n",
       "PWH28D7_TTTGTTGAGGTCCTGC-1  0.107215         0.0  \n",
       "PWH28D7_TTTGTTGAGTAGACCG-1  0.000000         0.0  \n",
       "PWH28D7_TTTGTTGGTAGCGTAG-1  0.000000         0.0  \n",
       "\n",
       "[27105 rows x 384 columns]"
      ]
     },
     "execution_count": 14,
     "metadata": {},
     "output_type": "execute_result"
    }
   ],
   "source": [
    "auc_mtx"
   ]
  },
  {
   "cell_type": "markdown",
   "metadata": {},
   "source": [
    "# Integrate the output"
   ]
  },
  {
   "cell_type": "code",
   "execution_count": 5,
   "metadata": {},
   "outputs": [],
   "source": [
    "# scenic output\n",
    "lf = lp.connect(f_pyscenic_output, mode='r+', validate=False)\n",
    "meta = json.loads(zlib.decompress(base64.b64decode( lf.attrs.MetaData )))\n",
    "#exprMat = pd.DataFrame( lf[:,:], index=lf.ra.Gene, columns=lf.ca.CellID)\n",
    "auc_mtx = pd.DataFrame(lf.ca.RegulonsAUC, index=lf.ca.CellID)\n",
    "regulons = lf.ra.Regulons\n",
    "dr_umap = pd.read_csv('scenic_binary_umap.txt', sep='\\t', header=0, index_col=0 )\n",
    "dr_tsne = pd.read_csv('scenic_binary_tsne.txt', sep='\\t', header=0, index_col=0 )\n",
    "###"
   ]
  },
  {
   "cell_type": "markdown",
   "metadata": {},
   "source": [
    "## Fix regulon objects to display properly in SCope"
   ]
  },
  {
   "cell_type": "code",
   "execution_count": 6,
   "metadata": {
    "scrolled": true
   },
   "outputs": [
    {
     "name": "stderr",
     "output_type": "stream",
     "text": [
      "/Users/zhuliu/miniconda3/envs/pyscenic/lib/python3.7/site-packages/ipykernel_launcher.py:1: FutureWarning: The default value of regex will change from True to False in a future version.\n",
      "  \"\"\"Entry point for launching an IPython kernel.\n"
     ]
    }
   ],
   "source": [
    "auc_mtx.columns = auc_mtx.columns.str.replace('\\(','_(')\n",
    "regulons.dtype.names = tuple( [ x.replace(\"(\",\"_(\") for x in regulons.dtype.names ] )\n",
    "# regulon thresholds\n",
    "rt = meta['regulonThresholds']\n",
    "for i,x in enumerate(rt):\n",
    "    tmp = x.get('regulon').replace(\"(\",\"_(\")\n",
    "    x.update( {'regulon': tmp} )"
   ]
  },
  {
   "cell_type": "markdown",
   "metadata": {},
   "source": [
    "## Concatenate embeddings (tSNE, UMAP, etc.)"
   ]
  },
  {
   "cell_type": "code",
   "execution_count": 7,
   "metadata": {
    "scrolled": true
   },
   "outputs": [
    {
     "data": {
      "text/plain": [
       "AnnData object with n_obs × n_vars = 27105 × 25778\n",
       "    obs: 'orig.ident', 'nCount_RNA', 'nFeature_RNA', 'Patient', 'Gender', 'Age', 'Condition', 'Doublet', 'percent.mt', 'percent.ribo', 'percent.hb', 'percent.malat1', 'S.Score', 'G2M.Score', 'Phase', 'CC.Difference', 'MainCellTypes', 'SubCellTypes', 'SCT_snn_res.0.8', 'seurat_clusters', 'SCT_snn_res.0.5', 'SCT_snn_res.1', 'CellTypes', 'mig_score1', 'monocle3_pseudotime', 'UMAP_1', 'UMAP_2'\n",
       "    uns: 'CellTypes_colors', 'Condition_colors', 'seurat_clusters_colors'\n",
       "    obsm: 'X_harmony', 'X_pca', 'X_umap'"
      ]
     },
     "execution_count": 7,
     "metadata": {},
     "output_type": "execute_result"
    }
   ],
   "source": [
    "adata=sc.read(\"allNew_scanpy_subkeratins.h5ad\")\n",
    "adata"
   ]
  },
  {
   "cell_type": "code",
   "execution_count": 11,
   "metadata": {},
   "outputs": [
    {
     "name": "stdout",
     "output_type": "stream",
     "text": [
      "[1342.36 2496.2  2856.   4194.   9823.  ]\n"
     ]
    }
   ],
   "source": [
    "nGenesDetectedPerCell = np.sum(adata.X>0, axis=1)\n",
    "percentiles = np.quantile(nGenesDetectedPerCell, [.01, .05, .10, .50, 1])\n",
    "print(percentiles)\n",
    "\n",
    "percentiles_index = np.array([.01, .05, .10, .50, 1])"
   ]
  },
  {
   "cell_type": "code",
   "execution_count": 12,
   "metadata": {
    "scrolled": false
   },
   "outputs": [
    {
     "name": "stderr",
     "output_type": "stream",
     "text": [
      "/Users/zhuliu/miniconda3/envs/newpyscenic/lib/python3.8/site-packages/seaborn/distributions.py:2619: FutureWarning: `distplot` is a deprecated function and will be removed in a future version. Please adapt your code to use either `displot` (a figure-level function with similar flexibility) or `histplot` (an axes-level function for histograms).\n",
      "  warnings.warn(msg, FutureWarning)\n"
     ]
    },
    {
     "data": {
      "image/png": "[encoded data removed]",
      "text/plain": [
       "<Figure size 1200x450 with 1 Axes>"
      ]
     },
     "metadata": {
      "needs_background": "light"
     },
     "output_type": "display_data"
    }
   ],
   "source": [
    "fig, ax = plt.subplots(1, 1, figsize=(8, 3), dpi=150)\n",
    "sns.distplot(nGenesDetectedPerCell, norm_hist=False, kde=False, bins='fd')\n",
    "for i,x in enumerate(percentiles):\n",
    "    fig.gca().axvline(x=x, ymin=0,ymax=1, color='red')\n",
    "    ax.text(x=x, y=ax.get_ylim()[1], s=f'{int(x)} ({percentiles_index[i]*100}%)', color='red', rotation=30, size='x-small',rotation_mode='anchor' )\n",
    "ax.set_xlabel('# of genes')\n",
    "ax.set_ylabel('# of cells')\n",
    "fig.tight_layout()"
   ]
  },
  {
   "cell_type": "code",
   "execution_count": 8,
   "metadata": {
    "scrolled": false
   },
   "outputs": [
    {
     "data": {
      "text/html": [
       "<div>\n",
       "<style scoped>\n",
       "    .dataframe tbody tr th:only-of-type {\n",
       "        vertical-align: middle;\n",
       "    }\n",
       "\n",
       "    .dataframe tbody tr th {\n",
       "        vertical-align: top;\n",
       "    }\n",
       "\n",
       "    .dataframe thead th {\n",
       "        text-align: right;\n",
       "    }\n",
       "</style>\n",
       "<table border=\"1\" class=\"dataframe\">\n",
       "  <thead>\n",
       "    <tr style=\"text-align: right;\">\n",
       "      <th></th>\n",
       "      <th>orig.ident</th>\n",
       "      <th>nCount_RNA</th>\n",
       "      <th>nFeature_RNA</th>\n",
       "      <th>Patient</th>\n",
       "      <th>Gender</th>\n",
       "      <th>Age</th>\n",
       "      <th>Condition</th>\n",
       "      <th>Doublet</th>\n",
       "      <th>percent.mt</th>\n",
       "      <th>percent.ribo</th>\n",
       "      <th>...</th>\n",
       "      <th>SubCellTypes</th>\n",
       "      <th>SCT_snn_res.0.8</th>\n",
       "      <th>seurat_clusters</th>\n",
       "      <th>SCT_snn_res.0.5</th>\n",
       "      <th>SCT_snn_res.1</th>\n",
       "      <th>CellTypes</th>\n",
       "      <th>mig_score1</th>\n",
       "      <th>monocle3_pseudotime</th>\n",
       "      <th>UMAP_1</th>\n",
       "      <th>UMAP_2</th>\n",
       "    </tr>\n",
       "    <tr>\n",
       "      <th>barcode</th>\n",
       "      <th></th>\n",
       "      <th></th>\n",
       "      <th></th>\n",
       "      <th></th>\n",
       "      <th></th>\n",
       "      <th></th>\n",
       "      <th></th>\n",
       "      <th></th>\n",
       "      <th></th>\n",
       "      <th></th>\n",
       "      <th></th>\n",
       "      <th></th>\n",
       "      <th></th>\n",
       "      <th></th>\n",
       "      <th></th>\n",
       "      <th></th>\n",
       "      <th></th>\n",
       "      <th></th>\n",
       "      <th></th>\n",
       "      <th></th>\n",
       "      <th></th>\n",
       "    </tr>\n",
       "  </thead>\n",
       "  <tbody>\n",
       "    <tr>\n",
       "      <th>PWH26D0_AAACCCACACGTAACT-1</th>\n",
       "      <td>PWH26D0</td>\n",
       "      <td>27681</td>\n",
       "      <td>5164</td>\n",
       "      <td>PWH26</td>\n",
       "      <td>Male</td>\n",
       "      <td>29</td>\n",
       "      <td>Skin</td>\n",
       "      <td>Singlet</td>\n",
       "      <td>5.447562</td>\n",
       "      <td>32.745491</td>\n",
       "      <td>...</td>\n",
       "      <td>Spi_I_cl1</td>\n",
       "      <td>3</td>\n",
       "      <td>6</td>\n",
       "      <td>0</td>\n",
       "      <td>6</td>\n",
       "      <td>Spi_II</td>\n",
       "      <td>-0.420636</td>\n",
       "      <td>35.835173</td>\n",
       "      <td>4.514600</td>\n",
       "      <td>4.859426</td>\n",
       "    </tr>\n",
       "    <tr>\n",
       "      <th>PWH26D0_AAACCCACACTGAGGA-1</th>\n",
       "      <td>PWH26D0</td>\n",
       "      <td>17228</td>\n",
       "      <td>3981</td>\n",
       "      <td>PWH26</td>\n",
       "      <td>Male</td>\n",
       "      <td>29</td>\n",
       "      <td>Skin</td>\n",
       "      <td>Singlet</td>\n",
       "      <td>7.936756</td>\n",
       "      <td>37.161284</td>\n",
       "      <td>...</td>\n",
       "      <td>Spi_II_cl4</td>\n",
       "      <td>3</td>\n",
       "      <td>6</td>\n",
       "      <td>3</td>\n",
       "      <td>6</td>\n",
       "      <td>Spi_I</td>\n",
       "      <td>-0.442993</td>\n",
       "      <td>25.157929</td>\n",
       "      <td>1.166001</td>\n",
       "      <td>3.640951</td>\n",
       "    </tr>\n",
       "    <tr>\n",
       "      <th>PWH26D0_AAACCCAGTCCGACGT-1</th>\n",
       "      <td>PWH26D0</td>\n",
       "      <td>19962</td>\n",
       "      <td>3928</td>\n",
       "      <td>PWH26</td>\n",
       "      <td>Male</td>\n",
       "      <td>29</td>\n",
       "      <td>Skin</td>\n",
       "      <td>Singlet</td>\n",
       "      <td>6.533741</td>\n",
       "      <td>42.505817</td>\n",
       "      <td>...</td>\n",
       "      <td>Spi_I_cl1</td>\n",
       "      <td>3</td>\n",
       "      <td>0</td>\n",
       "      <td>0</td>\n",
       "      <td>0</td>\n",
       "      <td>Spi_II</td>\n",
       "      <td>-0.427993</td>\n",
       "      <td>28.658110</td>\n",
       "      <td>2.272555</td>\n",
       "      <td>2.760318</td>\n",
       "    </tr>\n",
       "    <tr>\n",
       "      <th>PWH26D0_AAACCCATCAGCGGAA-1</th>\n",
       "      <td>PWH26D0</td>\n",
       "      <td>19153</td>\n",
       "      <td>4177</td>\n",
       "      <td>PWH26</td>\n",
       "      <td>Male</td>\n",
       "      <td>29</td>\n",
       "      <td>Skin</td>\n",
       "      <td>Singlet</td>\n",
       "      <td>5.637100</td>\n",
       "      <td>36.548496</td>\n",
       "      <td>...</td>\n",
       "      <td>Spi_II_cl4</td>\n",
       "      <td>4</td>\n",
       "      <td>3</td>\n",
       "      <td>3</td>\n",
       "      <td>3</td>\n",
       "      <td>Spi_I</td>\n",
       "      <td>-0.218841</td>\n",
       "      <td>20.894251</td>\n",
       "      <td>-1.438334</td>\n",
       "      <td>2.228174</td>\n",
       "    </tr>\n",
       "    <tr>\n",
       "      <th>PWH26D0_AAACGAACAATGAAAC-1</th>\n",
       "      <td>PWH26D0</td>\n",
       "      <td>26084</td>\n",
       "      <td>4679</td>\n",
       "      <td>PWH26</td>\n",
       "      <td>Male</td>\n",
       "      <td>29</td>\n",
       "      <td>Skin</td>\n",
       "      <td>Singlet</td>\n",
       "      <td>5.279887</td>\n",
       "      <td>40.893519</td>\n",
       "      <td>...</td>\n",
       "      <td>Spi_I_cl1</td>\n",
       "      <td>3</td>\n",
       "      <td>6</td>\n",
       "      <td>0</td>\n",
       "      <td>6</td>\n",
       "      <td>Spi_II</td>\n",
       "      <td>-0.440837</td>\n",
       "      <td>25.781815</td>\n",
       "      <td>1.770500</td>\n",
       "      <td>3.679583</td>\n",
       "    </tr>\n",
       "    <tr>\n",
       "      <th>...</th>\n",
       "      <td>...</td>\n",
       "      <td>...</td>\n",
       "      <td>...</td>\n",
       "      <td>...</td>\n",
       "      <td>...</td>\n",
       "      <td>...</td>\n",
       "      <td>...</td>\n",
       "      <td>...</td>\n",
       "      <td>...</td>\n",
       "      <td>...</td>\n",
       "      <td>...</td>\n",
       "      <td>...</td>\n",
       "      <td>...</td>\n",
       "      <td>...</td>\n",
       "      <td>...</td>\n",
       "      <td>...</td>\n",
       "      <td>...</td>\n",
       "      <td>...</td>\n",
       "      <td>...</td>\n",
       "      <td>...</td>\n",
       "      <td>...</td>\n",
       "    </tr>\n",
       "    <tr>\n",
       "      <th>PWH28D7_TTTGGAGGTGCCTAAT-1</th>\n",
       "      <td>PWH28D7</td>\n",
       "      <td>66880</td>\n",
       "      <td>6790</td>\n",
       "      <td>PWH28</td>\n",
       "      <td>Male</td>\n",
       "      <td>24</td>\n",
       "      <td>Wound7</td>\n",
       "      <td>Singlet</td>\n",
       "      <td>3.398883</td>\n",
       "      <td>29.004952</td>\n",
       "      <td>...</td>\n",
       "      <td>Bas_II_cl6</td>\n",
       "      <td>5</td>\n",
       "      <td>7</td>\n",
       "      <td>5</td>\n",
       "      <td>7</td>\n",
       "      <td>Bas_II</td>\n",
       "      <td>0.610174</td>\n",
       "      <td>11.273101</td>\n",
       "      <td>-3.661146</td>\n",
       "      <td>0.786490</td>\n",
       "    </tr>\n",
       "    <tr>\n",
       "      <th>PWH28D7_TTTGGAGTCGAGTCCG-1</th>\n",
       "      <td>PWH28D7</td>\n",
       "      <td>16428</td>\n",
       "      <td>2948</td>\n",
       "      <td>PWH28</td>\n",
       "      <td>Male</td>\n",
       "      <td>24</td>\n",
       "      <td>Wound7</td>\n",
       "      <td>Singlet</td>\n",
       "      <td>5.780579</td>\n",
       "      <td>46.834718</td>\n",
       "      <td>...</td>\n",
       "      <td>Spi_I_cl1</td>\n",
       "      <td>3</td>\n",
       "      <td>0</td>\n",
       "      <td>0</td>\n",
       "      <td>0</td>\n",
       "      <td>Spi_II</td>\n",
       "      <td>-0.122513</td>\n",
       "      <td>24.044449</td>\n",
       "      <td>1.691677</td>\n",
       "      <td>2.211341</td>\n",
       "    </tr>\n",
       "    <tr>\n",
       "      <th>PWH28D7_TTTGTTGAGGTCCTGC-1</th>\n",
       "      <td>PWH28D7</td>\n",
       "      <td>6449</td>\n",
       "      <td>2316</td>\n",
       "      <td>PWH28</td>\n",
       "      <td>Male</td>\n",
       "      <td>24</td>\n",
       "      <td>Wound7</td>\n",
       "      <td>Singlet</td>\n",
       "      <td>8.081644</td>\n",
       "      <td>32.492070</td>\n",
       "      <td>...</td>\n",
       "      <td>Bas_I_cl3</td>\n",
       "      <td>0</td>\n",
       "      <td>2</td>\n",
       "      <td>1</td>\n",
       "      <td>2</td>\n",
       "      <td>Bas_I</td>\n",
       "      <td>-0.249604</td>\n",
       "      <td>4.049451</td>\n",
       "      <td>-7.507584</td>\n",
       "      <td>-3.604315</td>\n",
       "    </tr>\n",
       "    <tr>\n",
       "      <th>PWH28D7_TTTGTTGAGTAGACCG-1</th>\n",
       "      <td>PWH28D7</td>\n",
       "      <td>3920</td>\n",
       "      <td>1727</td>\n",
       "      <td>PWH28</td>\n",
       "      <td>Male</td>\n",
       "      <td>24</td>\n",
       "      <td>Wound7</td>\n",
       "      <td>Singlet</td>\n",
       "      <td>8.862169</td>\n",
       "      <td>20.552216</td>\n",
       "      <td>...</td>\n",
       "      <td>Spi_II_cl4</td>\n",
       "      <td>4</td>\n",
       "      <td>3</td>\n",
       "      <td>3</td>\n",
       "      <td>3</td>\n",
       "      <td>Spi_I</td>\n",
       "      <td>-0.200958</td>\n",
       "      <td>16.628454</td>\n",
       "      <td>-0.204015</td>\n",
       "      <td>-0.105529</td>\n",
       "    </tr>\n",
       "    <tr>\n",
       "      <th>PWH28D7_TTTGTTGGTAGCGTAG-1</th>\n",
       "      <td>PWH28D7</td>\n",
       "      <td>18123</td>\n",
       "      <td>4357</td>\n",
       "      <td>PWH28</td>\n",
       "      <td>Male</td>\n",
       "      <td>24</td>\n",
       "      <td>Wound7</td>\n",
       "      <td>Singlet</td>\n",
       "      <td>10.283789</td>\n",
       "      <td>9.714313</td>\n",
       "      <td>...</td>\n",
       "      <td>Gra_II_cl11</td>\n",
       "      <td>8</td>\n",
       "      <td>11</td>\n",
       "      <td>7</td>\n",
       "      <td>11</td>\n",
       "      <td>Gra_I</td>\n",
       "      <td>-0.297942</td>\n",
       "      <td>36.830967</td>\n",
       "      <td>5.396100</td>\n",
       "      <td>-4.333853</td>\n",
       "    </tr>\n",
       "  </tbody>\n",
       "</table>\n",
       "<p>27105 rows × 27 columns</p>\n",
       "</div>"
      ],
      "text/plain": [
       "                           orig.ident  nCount_RNA  nFeature_RNA Patient  \\\n",
       "barcode                                                                   \n",
       "PWH26D0_AAACCCACACGTAACT-1    PWH26D0       27681          5164   PWH26   \n",
       "PWH26D0_AAACCCACACTGAGGA-1    PWH26D0       17228          3981   PWH26   \n",
       "PWH26D0_AAACCCAGTCCGACGT-1    PWH26D0       19962          3928   PWH26   \n",
       "PWH26D0_AAACCCATCAGCGGAA-1    PWH26D0       19153          4177   PWH26   \n",
       "PWH26D0_AAACGAACAATGAAAC-1    PWH26D0       26084          4679   PWH26   \n",
       "...                               ...         ...           ...     ...   \n",
       "PWH28D7_TTTGGAGGTGCCTAAT-1    PWH28D7       66880          6790   PWH28   \n",
       "PWH28D7_TTTGGAGTCGAGTCCG-1    PWH28D7       16428          2948   PWH28   \n",
       "PWH28D7_TTTGTTGAGGTCCTGC-1    PWH28D7        6449          2316   PWH28   \n",
       "PWH28D7_TTTGTTGAGTAGACCG-1    PWH28D7        3920          1727   PWH28   \n",
       "PWH28D7_TTTGTTGGTAGCGTAG-1    PWH28D7       18123          4357   PWH28   \n",
       "\n",
       "                           Gender Age Condition  Doublet  percent.mt  \\\n",
       "barcode                                                                \n",
       "PWH26D0_AAACCCACACGTAACT-1   Male  29      Skin  Singlet    5.447562   \n",
       "PWH26D0_AAACCCACACTGAGGA-1   Male  29      Skin  Singlet    7.936756   \n",
       "PWH26D0_AAACCCAGTCCGACGT-1   Male  29      Skin  Singlet    6.533741   \n",
       "PWH26D0_AAACCCATCAGCGGAA-1   Male  29      Skin  Singlet    5.637100   \n",
       "PWH26D0_AAACGAACAATGAAAC-1   Male  29      Skin  Singlet    5.279887   \n",
       "...                           ...  ..       ...      ...         ...   \n",
       "PWH28D7_TTTGGAGGTGCCTAAT-1   Male  24    Wound7  Singlet    3.398883   \n",
       "PWH28D7_TTTGGAGTCGAGTCCG-1   Male  24    Wound7  Singlet    5.780579   \n",
       "PWH28D7_TTTGTTGAGGTCCTGC-1   Male  24    Wound7  Singlet    8.081644   \n",
       "PWH28D7_TTTGTTGAGTAGACCG-1   Male  24    Wound7  Singlet    8.862169   \n",
       "PWH28D7_TTTGTTGGTAGCGTAG-1   Male  24    Wound7  Singlet   10.283789   \n",
       "\n",
       "                            percent.ribo  ...  SubCellTypes  SCT_snn_res.0.8  \\\n",
       "barcode                                   ...                                  \n",
       "PWH26D0_AAACCCACACGTAACT-1     32.745491  ...     Spi_I_cl1                3   \n",
       "PWH26D0_AAACCCACACTGAGGA-1     37.161284  ...    Spi_II_cl4                3   \n",
       "PWH26D0_AAACCCAGTCCGACGT-1     42.505817  ...     Spi_I_cl1                3   \n",
       "PWH26D0_AAACCCATCAGCGGAA-1     36.548496  ...    Spi_II_cl4                4   \n",
       "PWH26D0_AAACGAACAATGAAAC-1     40.893519  ...     Spi_I_cl1                3   \n",
       "...                                  ...  ...           ...              ...   \n",
       "PWH28D7_TTTGGAGGTGCCTAAT-1     29.004952  ...    Bas_II_cl6                5   \n",
       "PWH28D7_TTTGGAGTCGAGTCCG-1     46.834718  ...     Spi_I_cl1                3   \n",
       "PWH28D7_TTTGTTGAGGTCCTGC-1     32.492070  ...     Bas_I_cl3                0   \n",
       "PWH28D7_TTTGTTGAGTAGACCG-1     20.552216  ...    Spi_II_cl4                4   \n",
       "PWH28D7_TTTGTTGGTAGCGTAG-1      9.714313  ...   Gra_II_cl11                8   \n",
       "\n",
       "                            seurat_clusters  SCT_snn_res.0.5 SCT_snn_res.1  \\\n",
       "barcode                                                                      \n",
       "PWH26D0_AAACCCACACGTAACT-1                6                0             6   \n",
       "PWH26D0_AAACCCACACTGAGGA-1                6                3             6   \n",
       "PWH26D0_AAACCCAGTCCGACGT-1                0                0             0   \n",
       "PWH26D0_AAACCCATCAGCGGAA-1                3                3             3   \n",
       "PWH26D0_AAACGAACAATGAAAC-1                6                0             6   \n",
       "...                                     ...              ...           ...   \n",
       "PWH28D7_TTTGGAGGTGCCTAAT-1                7                5             7   \n",
       "PWH28D7_TTTGGAGTCGAGTCCG-1                0                0             0   \n",
       "PWH28D7_TTTGTTGAGGTCCTGC-1                2                1             2   \n",
       "PWH28D7_TTTGTTGAGTAGACCG-1                3                3             3   \n",
       "PWH28D7_TTTGTTGGTAGCGTAG-1               11                7            11   \n",
       "\n",
       "                            CellTypes mig_score1 monocle3_pseudotime  \\\n",
       "barcode                                                                \n",
       "PWH26D0_AAACCCACACGTAACT-1     Spi_II  -0.420636           35.835173   \n",
       "PWH26D0_AAACCCACACTGAGGA-1      Spi_I  -0.442993           25.157929   \n",
       "PWH26D0_AAACCCAGTCCGACGT-1     Spi_II  -0.427993           28.658110   \n",
       "PWH26D0_AAACCCATCAGCGGAA-1      Spi_I  -0.218841           20.894251   \n",
       "PWH26D0_AAACGAACAATGAAAC-1     Spi_II  -0.440837           25.781815   \n",
       "...                               ...        ...                 ...   \n",
       "PWH28D7_TTTGGAGGTGCCTAAT-1     Bas_II   0.610174           11.273101   \n",
       "PWH28D7_TTTGGAGTCGAGTCCG-1     Spi_II  -0.122513           24.044449   \n",
       "PWH28D7_TTTGTTGAGGTCCTGC-1      Bas_I  -0.249604            4.049451   \n",
       "PWH28D7_TTTGTTGAGTAGACCG-1      Spi_I  -0.200958           16.628454   \n",
       "PWH28D7_TTTGTTGGTAGCGTAG-1      Gra_I  -0.297942           36.830967   \n",
       "\n",
       "                              UMAP_1    UMAP_2  \n",
       "barcode                                         \n",
       "PWH26D0_AAACCCACACGTAACT-1  4.514600  4.859426  \n",
       "PWH26D0_AAACCCACACTGAGGA-1  1.166001  3.640951  \n",
       "PWH26D0_AAACCCAGTCCGACGT-1  2.272555  2.760318  \n",
       "PWH26D0_AAACCCATCAGCGGAA-1 -1.438334  2.228174  \n",
       "PWH26D0_AAACGAACAATGAAAC-1  1.770500  3.679583  \n",
       "...                              ...       ...  \n",
       "PWH28D7_TTTGGAGGTGCCTAAT-1 -3.661146  0.786490  \n",
       "PWH28D7_TTTGGAGTCGAGTCCG-1  1.691677  2.211341  \n",
       "PWH28D7_TTTGTTGAGGTCCTGC-1 -7.507584 -3.604315  \n",
       "PWH28D7_TTTGTTGAGTAGACCG-1 -0.204015 -0.105529  \n",
       "PWH28D7_TTTGTTGGTAGCGTAG-1  5.396100 -4.333853  \n",
       "\n",
       "[27105 rows x 27 columns]"
      ]
     },
     "execution_count": 8,
     "metadata": {},
     "output_type": "execute_result"
    }
   ],
   "source": [
    "#Change the data type of the column if it is wrong\n",
    "adata.obs[[\"CellTypes\"]] = adata.obs[[\"CellTypes\"]].astype(\"category\")\n",
    "adata.obs"
   ]
  },
  {
   "cell_type": "code",
   "execution_count": null,
   "metadata": {},
   "outputs": [],
   "source": [
    "sc.pl.umap(adata, color=['CellTypes', 'Condition'])"
   ]
  },
  {
   "cell_type": "code",
   "execution_count": 14,
   "metadata": {
    "scrolled": true
   },
   "outputs": [],
   "source": [
    "umapDF = pd.DataFrame(adata.obsm['X_umap'], columns=['_X', '_Y'])"
   ]
  },
  {
   "cell_type": "code",
   "execution_count": 15,
   "metadata": {},
   "outputs": [],
   "source": [
    "Embeddings_X = pd.DataFrame(index=lf.ca.CellID)\n",
    "Embeddings_X = pd.concat([\n",
    "        pd.DataFrame(adata.obsm['X_umap'],index=adata.obs.index)[0],\n",
    "        pd.DataFrame(adata.obsm['X_pca'],index=adata.obs.index)[0],\n",
    "        dr_tsne['X'] ,\n",
    "        dr_umap['X']\n",
    "        ], sort=False, axis=1, join='outer' )\n",
    "Embeddings_X.columns = ['1','2','3','4']\n",
    "\n",
    "Embeddings_Y = pd.DataFrame(index=lf.ca.CellID)\n",
    "Embeddings_Y = pd.concat([\n",
    "        pd.DataFrame(adata.obsm['X_umap'],index=adata.obs.index)[1],\n",
    "        pd.DataFrame(adata.obsm['X_pca'],index=adata.obs.index)[1],\n",
    "        dr_tsne['Y'] ,\n",
    "        dr_umap['Y']\n",
    "        ], sort=False, axis=1, join='outer' )\n",
    "Embeddings_Y.columns = ['1','2','3','4']"
   ]
  },
  {
   "cell_type": "code",
   "execution_count": 16,
   "metadata": {
    "scrolled": true
   },
   "outputs": [
    {
     "name": "stderr",
     "output_type": "stream",
     "text": [
      "/var/folders/5g/39bmwc9139g5cvtdl4c0pxtwnwd5fl/T/ipykernel_13635/4049543245.py:47: DeprecationWarning: `np.str` is a deprecated alias for the builtin `str`. To silence this warning, use `str` by itself. Doing this will not modify any behavior and is safe. If you specifically wanted the numpy scalar type, use `np.str_` here.\n",
      "Deprecated in NumPy 1.20; for more details and guidance: https://numpy.org/devdocs/release/1.20.0-notes.html#deprecations\n",
      "  \"values\": list(set(adata.obs['SCT_snn_res.0.5'].astype(np.str)))\n"
     ]
    }
   ],
   "source": [
    "### metadata\n",
    "metaJson = {}\n",
    "\n",
    "metaJson['embeddings'] = [\n",
    "    {\n",
    "        \"id\": 1,\n",
    "        \"name\": \"Seurat umap\"\n",
    "    },\n",
    "    {\n",
    "        \"id\": 2,\n",
    "        \"name\": \"Seurat PC1/PC2\"\n",
    "    },\n",
    "    {\n",
    "        \"id\": 3,\n",
    "        \"name\": \"SCENIC AUC t-SNE\"\n",
    "    },\n",
    "    {\n",
    "        \"id\": 4,\n",
    "        \"name\": \"SCENIC AUC UMAP\"\n",
    "    },\n",
    "]\n",
    "\n",
    "metaJson[\"clusterings\"] = [{\n",
    "            \"id\": 0,\n",
    "            \"group\": \"Seurat\",\n",
    "            \"name\": \"Seurat louvain default resolution\",\n",
    "            \"clusters\": [],\n",
    "        }]\n",
    "\n",
    "metaJson[\"metrics\"] = [\n",
    "        {\n",
    "            \"name\": \"nUMI\"\n",
    "        }, {\n",
    "            \"name\": \"nGene\"\n",
    "        }, {\n",
    "            \"name\": \"Percent_mito\"\n",
    "        }, {\n",
    "            \"name\": \"S_score\"\n",
    "        }, {\n",
    "            \"name\": \"G2M_score\"\n",
    "        }\n",
    "]\n",
    "\n",
    "metaJson[\"annotations\"] = [\n",
    "    {\n",
    "        \"name\": \"Louvain_clusters_Seurat\",\n",
    "        \"values\": list(set(adata.obs['SCT_snn_res.0.5'].astype(np.str)))\n",
    "    },\n",
    "    {\n",
    "        \"name\": \"Sample\",\n",
    "        \"values\": list(set(adata.obs['orig.ident'].values))\n",
    "    },\n",
    "    {\n",
    "        \"name\": \"Condition\",\n",
    "        \"values\": list(set(adata.obs['Condition'].values))\n",
    "    },\n",
    "    {\n",
    "        \"name\": \"CellCycle\",\n",
    "        \"values\": list(set(adata.obs['Phase'].values))\n",
    "    },\n",
    "    {\n",
    "        \"name\": \"CellTypes\",\n",
    "        \"values\": list(set(adata.obs['CellTypes'].values))\n",
    "    }\n",
    "]\n",
    "\n",
    "# SCENIC regulon thresholds:\n",
    "metaJson[\"regulonThresholds\"] = rt\n",
    "\n",
    "for i in range(max(set([int(x) for x in adata.obs['SCT_snn_res.0.5']])) + 1):\n",
    "    clustDict = {}\n",
    "    clustDict['id'] = i\n",
    "    clustDict['description'] = f'Unannotated Cluster {i + 1}'\n",
    "    metaJson['clusterings'][0]['clusters'].append(clustDict)\n",
    "    \n",
    "clusterings = pd.DataFrame()\n",
    "clusterings[\"0\"] = adata.obs['SCT_snn_res.0.5'].values.astype(np.int64)"
   ]
  },
  {
   "cell_type": "markdown",
   "metadata": {},
   "source": [
    "## Assemble loom file row and column attributes"
   ]
  },
  {
   "cell_type": "code",
   "execution_count": 17,
   "metadata": {},
   "outputs": [],
   "source": [
    "def dfToNamedMatrix(df):\n",
    "    arr_ip = [tuple(i) for i in df.values]\n",
    "    dtyp = np.dtype(list(zip(df.dtypes.index, df.dtypes)))\n",
    "    arr = np.array(arr_ip, dtype=dtyp)\n",
    "    return arr"
   ]
  },
  {
   "cell_type": "code",
   "execution_count": 18,
   "metadata": {},
   "outputs": [],
   "source": [
    "col_attrs = {\n",
    "    \"CellID\": np.array(adata.obs.index),\n",
    "    \"nUMI\": np.array(adata.obs['nCount_RNA'].values),\n",
    "    \"nGene\": np.array(adata.obs['nFeature_RNA'].values),\n",
    "    \"Percent_mito\": np.array(adata.obs['percent.mt'].values),\n",
    "    \"S_score\": np.array(adata.obs['S.Score'].values),\n",
    "    \"G2M_score\": np.array(adata.obs['G2M.Score'].values),\n",
    "    \"Louvain_clusters_Seurat\": np.array(adata.obs['SCT_snn_res.0.5'].values),\n",
    "    \"Sample\": np.array(adata.obs['orig.ident'].values),\n",
    "    \"Condition\": np.array(adata.obs['Condition'].values),\n",
    "    \"CellCycle\": np.array(adata.obs['Phase'].values),\n",
    "    \"CellTypes\": np.array(adata.obs['CellTypes'].values),\n",
    "    \"Embedding\": dfToNamedMatrix(umapDF),\n",
    "    \"Embeddings_X\": dfToNamedMatrix(Embeddings_X),\n",
    "    \"Embeddings_Y\": dfToNamedMatrix(Embeddings_Y),\n",
    "    \"RegulonsAUC\": dfToNamedMatrix(auc_mtx),\n",
    "    \"Clusterings\": dfToNamedMatrix(clusterings),\n",
    "    \"ClusterID\": np.array(adata.obs['SCT_snn_res.0.5'].values)\n",
    "}\n",
    "\n",
    "row_attrs = {\n",
    "    \"Gene\": lf.ra.Gene,\n",
    "    \"Regulons\": regulons,\n",
    "}\n",
    "\n",
    "attrs = {\n",
    "    \"title\": \"hsWound\",\n",
    "    \"MetaData\": json.dumps(metaJson),\n",
    "    \"Genome\": 'hg38',\n",
    "    \"SCopeTreeL1\": \"\",\n",
    "    \"SCopeTreeL2\": \"\",\n",
    "    \"SCopeTreeL3\": \"\"\n",
    "}\n",
    "\n",
    "# compress the metadata field:\n",
    "attrs['MetaData'] = base64.b64encode(zlib.compress(json.dumps(metaJson).encode('ascii'))).decode('ascii')"
   ]
  },
  {
   "cell_type": "code",
   "execution_count": 19,
   "metadata": {},
   "outputs": [],
   "source": [
    "lp.create(\n",
    "    filename = \"hswound_SCENIC_AUC_final_binaryUMAP.loom\",\n",
    "    layers=lf[:,:],\n",
    "    row_attrs=row_attrs, \n",
    "    col_attrs=col_attrs, \n",
    "    file_attrs=attrs\n",
    ")\n",
    "lf.close() # close original pyscenic loom file"
   ]
  },
  {
   "cell_type": "markdown",
   "metadata": {},
   "source": [
    "# Visualization of SCENIC results"
   ]
  },
  {
   "cell_type": "code",
   "execution_count": 9,
   "metadata": {},
   "outputs": [],
   "source": [
    "# import dependencies\n",
    "import numpy as np\n",
    "import pandas as pd\n",
    "import scanpy as sc\n",
    "import loompy as lp\n",
    "from MulticoreTSNE import MulticoreTSNE as TSNE\n",
    "import json\n",
    "import base64\n",
    "import zlib\n",
    "from pyscenic.plotting import plot_binarization, plot_rss\n",
    "from pyscenic.cli.utils import load_signatures\n",
    "import matplotlib as mpl\n",
    "import matplotlib.pyplot as plt\n",
    "import seaborn as sns\n",
    "\n",
    "import os, glob, re, pickle\n",
    "from functools import partial\n",
    "from collections import OrderedDict\n",
    "import operator as op\n",
    "from cytoolz import compose\n",
    "\n",
    "\n",
    "from pyscenic.export import export2loom, add_scenic_metadata\n",
    "from pyscenic.utils import load_motifs\n",
    "from pyscenic.transform import df2regulons\n",
    "from pyscenic.aucell import aucell\n",
    "from pyscenic.binarization import binarize\n",
    "from pyscenic.rss import regulon_specificity_scores\n"
   ]
  },
  {
   "cell_type": "code",
   "execution_count": 10,
   "metadata": {
    "scrolled": false
   },
   "outputs": [],
   "source": [
    "# path to loom output, generated from a combination of Scanpy and pySCENIC results:\n",
    "f_final_loom = 'hswound_SCENIC_AUC_final_binaryUMAP.loom'\n",
    "\n",
    "sc.settings.verbosity = 3 # verbosity: errors (0), warnings (1), info (2), hints (3)\n",
    "#sc.logging.print_versions()\n",
    "sc.settings.set_figure_params(dpi=150)"
   ]
  },
  {
   "cell_type": "markdown",
   "metadata": {},
   "source": [
    "# Extract relevant data from the integrated loom file"
   ]
  },
  {
   "cell_type": "code",
   "execution_count": 22,
   "metadata": {},
   "outputs": [],
   "source": [
    "# scenic output\n",
    "lf = lp.connect(f_final_loom, mode='r', validate=False)\n",
    "meta = json.loads(zlib.decompress(base64.b64decode(lf.attrs.MetaData)))\n",
    "exprMat = pd.DataFrame(lf[:,:], index=lf.ra.Gene, columns=lf.ca.CellID).T\n",
    "auc_mtx = pd.DataFrame(lf.ca.RegulonsAUC, index=lf.ca.CellID)\n",
    "auc_mtx_cp = auc_mtx.copy() #make a copy for cellAnnot\n",
    "auc_mtx_cp = auc_mtx_cp.add_prefix('Regulon_') #add same pattern name to column names"
   ]
  },
  {
   "cell_type": "code",
   "execution_count": 23,
   "metadata": {},
   "outputs": [],
   "source": [
    "#extract annotations\n",
    "CellTypes = pd.DataFrame(lf.ca.CellTypes, index=lf.ca.CellID, columns=['CellTypes'])\n",
    "ClusterID = pd.DataFrame(lf.ca.ClusterID, index=lf.ca.CellID, columns=['ClusterID'])\n",
    "Sample = pd.DataFrame(lf.ca.Sample, index=lf.ca.CellID, columns=['Sample'])\n",
    "Condition = pd.DataFrame(lf.ca.Condition, index=lf.ca.CellID, columns=['Condition'])\n",
    "CellCycle = pd.DataFrame(lf.ca.CellCycle, index=lf.ca.CellID, columns=['CellCycle'])\n",
    "Louvain_clusters_Seurat = pd.DataFrame(lf.ca.Louvain_clusters_Seurat, index=lf.ca.CellID, columns=['Louvain_clusters_Seurat'])\n",
    "Percent_mito = pd.DataFrame(lf.ca.Percent_mito, index=lf.ca.CellID, columns=['Percent_mito'])\n",
    "S_score = pd.DataFrame(lf.ca.S_score, index=lf.ca.CellID, columns=['S_score'])\n",
    "G2M_score = pd.DataFrame(lf.ca.G2M_score, index=lf.ca.CellID, columns=['G2M_score'])\n",
    "nGene = pd.DataFrame(lf.ca.nGene, index=lf.ca.CellID, columns=['nGene'])\n",
    "nUMI = pd.DataFrame(lf.ca.nUMI, index=lf.ca.CellID, columns=['nUMI'])"
   ]
  },
  {
   "cell_type": "code",
   "execution_count": 24,
   "metadata": {},
   "outputs": [],
   "source": [
    "# create a dictionary of regulons:\n",
    "regulons = {}\n",
    "for i,r in pd.DataFrame(lf.ra.Regulons,index=lf.ra.Gene).iteritems():\n",
    "    regulons[i] =  list(r[r==1].index.values)"
   ]
  },
  {
   "cell_type": "code",
   "execution_count": 25,
   "metadata": {},
   "outputs": [],
   "source": [
    "# cell annotations from the loom column attributes:\n",
    "cellAnnot = pd.concat(\n",
    "    [\n",
    "        CellTypes,\n",
    "        ClusterID,\n",
    "        Sample,\n",
    "        Condition,\n",
    "        CellCycle,\n",
    "        Louvain_clusters_Seurat,\n",
    "        Percent_mito,\n",
    "        S_score,\n",
    "        G2M_score,\n",
    "        nGene,\n",
    "        nUMI,\n",
    "        auc_mtx_cp\n",
    "    ],\n",
    "    axis=1\n",
    ")"
   ]
  },
  {
   "cell_type": "code",
   "execution_count": null,
   "metadata": {},
   "outputs": [],
   "source": [
    "cellAnnot.to_csv('z_hswoundWound_cellType_metadata_addRegulons.csv') \n",
    "cellAnnot"
   ]
  },
  {
   "cell_type": "code",
   "execution_count": 26,
   "metadata": {},
   "outputs": [],
   "source": [
    "auc_mtx.to_csv('z_hswoundWound_Regulons_auc_mtx.csv') "
   ]
  },
  {
   "cell_type": "code",
   "execution_count": 26,
   "metadata": {},
   "outputs": [],
   "source": [
    "# capture embeddings:\n",
    "dr = [\n",
    "    pd.DataFrame(lf.ca.Embedding, index=lf.ca.CellID)\n",
    "]\n",
    "dr_names = [\n",
    "    meta['embeddings'][0]['name'].replace(\" \",\"_\")\n",
    "]\n",
    "\n",
    "# add other embeddings\n",
    "drx = pd.DataFrame(lf.ca.Embeddings_X, index=lf.ca.CellID)\n",
    "dry = pd.DataFrame(lf.ca.Embeddings_Y, index=lf.ca.CellID)\n",
    "\n",
    "for i in range(len(drx.columns)-1):\n",
    "    dr.append( pd.concat([drx.iloc[:,i], dry.iloc[:,i] ], sort=False, axis=1, join='outer'))\n",
    "    dr_names.append(meta['embeddings'][i+1]['name'].replace(\" \",\"_\").replace('/','-'))\n",
    "\n",
    "# rename columns:\n",
    "for i,x in enumerate(dr):\n",
    "    x.columns = ['X','Y']\n",
    "    \n",
    "#remember to close the loom file\n",
    "lf.close()"
   ]
  },
  {
   "cell_type": "markdown",
   "metadata": {},
   "source": [
    "# Display a motifs table with motif logos"
   ]
  },
  {
   "cell_type": "code",
   "execution_count": 11,
   "metadata": {},
   "outputs": [],
   "source": [
    "#View the motifs table along with motif logos\n",
    "# helper functions (not yet integrated into pySCENIC):\n",
    "\n",
    "from pyscenic.utils import load_motifs\n",
    "import operator as op\n",
    "from IPython.display import HTML, display\n",
    "\n",
    "BASE_URL = \"http://motifcollections.aertslab.org/v9/logos/\" \n",
    "COLUMN_NAME_LOGO = \"MotifLogo\"\n",
    "COLUMN_NAME_MOTIF_ID = \"MotifID\"\n",
    "COLUMN_NAME_TARGETS = \"TargetGenes\"\n",
    "\n",
    "def display_logos(df: pd.DataFrame, top_target_genes: int = 5, base_url: str = BASE_URL):\n",
    "    \"\"\"\n",
    "    :param df:\n",
    "    :param base_url:\n",
    "    \"\"\"\n",
    "    # Make sure the original dataframe is not altered.\n",
    "    df = df.copy()\n",
    "    \n",
    "    # Add column with URLs to sequence logo.\n",
    "    def create_url(motif_id):\n",
    "        return '<img src=\"{}{}.png\" style=\"max-height:124px;\"></img>'.format(base_url, motif_id)\n",
    "    df[(\"Enrichment\", COLUMN_NAME_LOGO)] = list(map(create_url, df.index.get_level_values(COLUMN_NAME_MOTIF_ID)))\n",
    "    \n",
    "    # Truncate TargetGenes.\n",
    "    def truncate(col_val):\n",
    "        return sorted(col_val, key=op.itemgetter(1))[:top_target_genes]\n",
    "    df[(\"Enrichment\", COLUMN_NAME_TARGETS)] = list(map(truncate, df[(\"Enrichment\", COLUMN_NAME_TARGETS)]))\n",
    "    \n",
    "    MAX_COL_WIDTH = pd.get_option('display.max_colwidth')\n",
    "    pd.set_option('display.max_colwidth', -1)\n",
    "    display(HTML(df.head().to_html(escape=False)))\n",
    "    pd.set_option('display.max_colwidth', MAX_COL_WIDTH)"
   ]
  },
  {
   "cell_type": "code",
   "execution_count": null,
   "metadata": {},
   "outputs": [],
   "source": [
    "df_motifs = load_motifs(\"hswound_reg.csv\")\n",
    "selected_motifs = ['E2F1', 'ILf2']\n",
    "df_motifs_sel = df_motifs.iloc[ [ True if x in selected_motifs else False for x in df_motifs.index.get_level_values('TF') ] ,:]\n",
    "\n",
    "#display_logos(df_motifs.head())\n",
    "display_logos(df_motifs_sel.sort_values([('Enrichment','NES')], ascending=False).head(5))"
   ]
  },
  {
   "cell_type": "code",
   "execution_count": 13,
   "metadata": {},
   "outputs": [
    {
     "name": "stdout",
     "output_type": "stream",
     "text": [
      "computing tSNE\n",
      "    using sklearn.manifold.TSNE\n"
     ]
    },
    {
     "name": "stderr",
     "output_type": "stream",
     "text": [
      "/Users/zhuliu/miniconda3/envs/pyscenic/lib/python3.7/site-packages/scanpy/tools/_tsne.py:115: UserWarning: In previous versions of scanpy, calling tsne with n_jobs > 1 would use MulticoreTSNE. Now this uses the scikit-learn version of TSNE by default. If you'd like the old behaviour (which is deprecated), pass 'use_fast_tsne=True'. Note, MulticoreTSNE is not actually faster anymore.\n",
      "  \"In previous versions of scanpy, calling tsne with n_jobs > 1 would use \"\n"
     ]
    },
    {
     "name": "stdout",
     "output_type": "stream",
     "text": [
      "    finished: added\n",
      "    'X_tsne', tSNE coordinates (adata.obsm) (0:02:11)\n"
     ]
    }
   ],
   "source": [
    "sc.tl.tsne(adata, n_pcs=30, use_rep='X_harmony', perplexity=50, n_jobs=10)"
   ]
  },
  {
   "cell_type": "code",
   "execution_count": null,
   "metadata": {},
   "outputs": [],
   "source": [
    "sc.set_figure_params(dpi=400, fontsize=8)\n",
    "sc.pl.tsne(adata, color=['CellTypes', 'Condition'])"
   ]
  },
  {
   "cell_type": "code",
   "execution_count": 107,
   "metadata": {},
   "outputs": [
    {
     "data": {
      "text/plain": [
       "AnnData object with n_obs × n_vars = 27105 × 25778\n",
       "    obs: 'orig.ident', 'nCount_RNA', 'nFeature_RNA', 'Patient', 'Gender', 'Age', 'Condition', 'Doublet', 'percent.mt', 'percent.ribo', 'percent.hb', 'percent.malat1', 'S.Score', 'G2M.Score', 'Phase', 'CC.Difference', 'MainCellTypes', 'SubCellTypes', 'SCT_snn_res.0.8', 'seurat_clusters', 'SCT_snn_res.0.5', 'SCT_snn_res.1', 'CellTypes', 'mig_score1', 'monocle3_pseudotime', 'UMAP_1', 'UMAP_2'\n",
       "    uns: 'CellTypes_colors', 'Condition_colors', 'seurat_clusters_colors', 'tsne'\n",
       "    obsm: 'X_harmony', 'X_pca', 'X_umap', 'X_tsne'"
      ]
     },
     "execution_count": 107,
     "metadata": {},
     "output_type": "execute_result"
    }
   ],
   "source": [
    "adata"
   ]
  },
  {
   "cell_type": "code",
   "execution_count": 83,
   "metadata": {},
   "outputs": [],
   "source": [
    "embedding_pca_tsne = pd.DataFrame(adata.obsm['X_tsne'], columns=[['_X', '_Y']], index=adata.obs_names)"
   ]
  },
  {
   "cell_type": "code",
   "execution_count": 111,
   "metadata": {
    "scrolled": true
   },
   "outputs": [],
   "source": [
    "# We add all metadata derived from SCENIC to the scanpy.AnnData object.\n",
    "add_scenic_metadata(adata, auc_mtx)\n",
    "adata.write_h5ad('allNew_scanpy_subkeratins_addAUC.h5ad')"
   ]
  },
  {
   "cell_type": "code",
   "execution_count": 16,
   "metadata": {},
   "outputs": [],
   "source": [
    "adata=sc.read('allNew_scanpy_subkeratins_addAUC.h5ad')"
   ]
  },
  {
   "cell_type": "code",
   "execution_count": 17,
   "metadata": {},
   "outputs": [],
   "source": [
    "#sc.tl.tsne(adata, use_rep='X_aucell', perplexity=50, n_jobs=10)"
   ]
  },
  {
   "cell_type": "code",
   "execution_count": null,
   "metadata": {},
   "outputs": [],
   "source": [
    "sc.pl.tsne(adata, color=['CellTypes', 'Condition'], title=['Cell types based on regulons', 'Conditions based on regulons'])"
   ]
  },
  {
   "cell_type": "code",
   "execution_count": null,
   "metadata": {
    "scrolled": false
   },
   "outputs": [],
   "source": [
    "for batch in ['Skin', 'Wound1', 'Wound7', 'Wound30']:\n",
    "    adata.sub=adata[adata.obs['Condition'].isin([batch])]\n",
    "    sc.pl.tsne(adata.sub, color=['CellTypes'], title=['Cell types based on regulons'], frameon=None)"
   ]
  },
  {
   "cell_type": "code",
   "execution_count": 72,
   "metadata": {},
   "outputs": [],
   "source": [
    "embedding_aucell_tsne = pd.DataFrame(adata.obsm['X_tsne'], columns=[['_X', '_Y']], index=adata.obs_names)"
   ]
  },
  {
   "cell_type": "code",
   "execution_count": null,
   "metadata": {},
   "outputs": [],
   "source": [
    "df_obs = adata.obs\n",
    "signature_column_names = list(df_obs.select_dtypes('number').columns)\n",
    "signature_column_names = list(filter(lambda s: s.startswith('Regulon('), signature_column_names))\n",
    "df_scores = df_obs[signature_column_names + ['CellTypes']]\n",
    "df_results = ((df_scores.groupby(by='CellTypes').mean() - df_obs[signature_column_names].mean())/ df_obs[signature_column_names].std()).stack().reset_index().rename(columns={'level_1': 'regulon', 0:'Z'})\n",
    "df_results['regulon'] = list(map(lambda s: s[8:-1], df_results.regulon))\n",
    "df_results[(df_results.Z >= 3.0)].sort_values('Z', ascending=False).head()"
   ]
  },
  {
   "cell_type": "code",
   "execution_count": 175,
   "metadata": {},
   "outputs": [
    {
     "name": "stdout",
     "output_type": "stream",
     "text": [
      "43\n",
      "9\n"
     ]
    }
   ],
   "source": [
    "cellType_top3reg = df_results.sort_values('Z', ascending=False).groupby(by='CellTypes').head(5).sort_values('CellTypes', ascending=False)\n",
    "print(len(cellType_top3reg['regulon'].unique()))\n",
    "print(len(cellType_top3reg['CellTypes'].unique()))"
   ]
  },
  {
   "cell_type": "code",
   "execution_count": null,
   "metadata": {},
   "outputs": [],
   "source": [
    "cellType_top3reg"
   ]
  },
  {
   "cell_type": "code",
   "execution_count": 177,
   "metadata": {},
   "outputs": [],
   "source": [
    "df_heatmap = pd.pivot_table(data=cellType_top3reg,\n",
    "                           index='CellTypes', columns='regulon', values='Z')"
   ]
  },
  {
   "cell_type": "code",
   "execution_count": null,
   "metadata": {},
   "outputs": [],
   "source": [
    "df_heatmap"
   ]
  },
  {
   "cell_type": "code",
   "execution_count": null,
   "metadata": {},
   "outputs": [],
   "source": [
    "#df_heatmap.drop(index='Myocyte', inplace=True) # We leave out Myocyte because many TFs are highly enriched (becuase of small number of cells).\n",
    "fig, ax1 = plt.subplots(1, 1, figsize=(10, 8))\n",
    "sns.heatmap(df_heatmap, ax=ax1, annot=True, fmt=\".1f\", linewidths=.7, cbar=False, square=True, linecolor='gray', \n",
    "            cmap=\"YlGnBu\", annot_kws={\"size\": 6})\n",
    "ax1.set_ylabel('')"
   ]
  },
  {
   "cell_type": "code",
   "execution_count": null,
   "metadata": {},
   "outputs": [],
   "source": [
    "df_heatmap = pd.pivot_table(data=df_results[df_results.Z >= 2.0].sort_values('Z', ascending=False),\n",
    "                           index='CellTypes', columns='regulon', values='Z')\n",
    "#df_heatmap.drop(index='Myocyte', inplace=True) # We leave out Myocyte because many TFs are highly enriched (becuase of small number of cells).\n",
    "fig, ax1 = plt.subplots(1, 1, figsize=(10, 8))\n",
    "sns.heatmap(df_heatmap, ax=ax1, annot=True, fmt=\".1f\", linewidths=.7, cbar=False, square=True, linecolor='gray', \n",
    "            cmap=\"YlGnBu\", annot_kws={\"size\": 6})\n",
    "ax1.set_ylabel('')\n",
    "#savesvg('heatmap_regulons.svg', fig)"
   ]
  },
  {
   "cell_type": "code",
   "execution_count": null,
   "metadata": {
    "scrolled": true
   },
   "outputs": [],
   "source": [
    "rss = regulon_specificity_scores(auc_mtx, adata.obs.CellTypes)\n",
    "rss.head()"
   ]
  },
  {
   "cell_type": "code",
   "execution_count": null,
   "metadata": {},
   "outputs": [],
   "source": [
    "from adjustText import adjust_text\n",
    "cats=['Bas_I',\n",
    "      'Bas_II',\n",
    "      'Bas_III',\n",
    "      'Spi_I',\n",
    "      'Spi_II',\n",
    "      'Spi_III',\n",
    "      'Spi_IV',\n",
    "      'Spi_V',\n",
    "      'Gra_I']\n",
    "fig = plt.figure(figsize=(12,12))\n",
    "for c,num in zip(cats, range(1,len(cats)+1)):\n",
    "    x=rss.T[c]\n",
    "    ax = fig.add_subplot(3,3,num)\n",
    "    plot_rss(rss, c, top_n=10, max_n=None, ax=ax)\n",
    "    ax.set_ylim( x.min()-(x.max()-x.min())*0.05 , x.max()+(x.max()-x.min())*0.05 )\n",
    "    for t in ax.texts:\n",
    "        t.set_fontsize(12)\n",
    "    ax.set_ylabel('')\n",
    "    ax.set_xlabel('')\n",
    "    adjust_text(ax.texts, autoalign='xy', ha='right', va='bottom', arrowprops=dict(arrowstyle='-',color='lightgrey'), precision=0.001 )\n",
    " \n",
    "fig.text(0.5, 0.0, 'Regulon', ha='center', va='center', size='x-large')\n",
    "fig.text(0.00, 0.5, 'Regulon specificity score (RSS)', ha='center', va='center', rotation='vertical', size='x-large')\n",
    "plt.tight_layout()\n",
    "plt.rcParams.update({\n",
    "    'figure.autolayout': True,\n",
    "        'figure.titlesize': 'large' ,\n",
    "        'axes.labelsize': 'medium',\n",
    "        'axes.titlesize':'large',\n",
    "        'xtick.labelsize':'medium',\n",
    "        'ytick.labelsize':'medium'\n",
    "        })\n",
    "#plt.savefig(\"z_hsWound_cellType-RSS-top5.pdf\", dpi=600, bbox_inches = \"tight\")\n",
    "plt.show()"
   ]
  },
  {
   "cell_type": "code",
   "execution_count": null,
   "metadata": {},
   "outputs": [],
   "source": [
    "sc.set_figure_params(dpi=400, fontsize=8)\n",
    "sc.pl.tsne(adata, color=['CellTypes', 'Regulon(SIRT6(+))','Regulon(ZNF831(+))',\n",
    "                         'Regulon(BANP(+))','Regulon(MTA3(+))','Regulon(RELA(+))', \n",
    "                         'Regulon(XBP1(+))','Regulon(NFATC1(+))','Regulon(STAT3(+))',\n",
    "                         'Regulon(FOSL1(+))','Regulon(E2F4(+))'],\n",
    "           cmap=sns.blend_palette([\"lightgray\", sns.xkcd_rgb[\"red\"]], as_cmap=True),\n",
    "           ncols=4, save=\"rss_spiv.pdf\")"
   ]
  },
  {
   "cell_type": "code",
   "execution_count": null,
   "metadata": {},
   "outputs": [],
   "source": [
    "sc.set_figure_params(dpi=400, fontsize=8)\n",
    "sc.pl.tsne(adata, color=['CellTypes', 'Regulon(GIT2(+))','Regulon(NKX2-8(+))',\n",
    "                         'Regulon(EOMES(+))','Regulon(MSC(+))','Regulon(SOX8(+))', \n",
    "                         'Regulon(SMARCB1(+))','Regulon(ELF4(+))','Regulon(SNAI2(+))',\n",
    "                         'Regulon(ASCL2(+))','Regulon(PML(+))'],\n",
    "           cmap=sns.blend_palette([\"lightgray\", sns.xkcd_rgb[\"red\"]], as_cmap=True),\n",
    "           ncols=4, save=\"rss_bas3.pdf\")"
   ]
  },
  {
   "cell_type": "code",
   "execution_count": null,
   "metadata": {},
   "outputs": [],
   "source": []
  },
  {
   "cell_type": "code",
   "execution_count": null,
   "metadata": {},
   "outputs": [],
   "source": [
    "df_results.sort_values('Z', ascending=False).groupby(by='CellTypes').head(5).sort_values('regulon')"
   ]
  },
  {
   "cell_type": "code",
   "execution_count": null,
   "metadata": {},
   "outputs": [],
   "source": [
    "aucell_adata = sc.AnnData(X=auc_mtx.sort_index())\n",
    "aucell_adata.obs = df_obs\n",
    "#names = list(map(op.attrgetter('Regulon'), filter(lambda r: r.score > 8.0, regulons)))\n",
    "sc.pl.stacked_violin(aucell_adata, 'Regulon(ALX1(+))', groupby='CellTypes')"
   ]
  },
  {
   "cell_type": "code",
   "execution_count": null,
   "metadata": {},
   "outputs": [],
   "source": []
  },
  {
   "cell_type": "markdown",
   "metadata": {},
   "source": [
    "# Dimensionality reduction plots"
   ]
  },
  {
   "cell_type": "code",
   "execution_count": 27,
   "metadata": {},
   "outputs": [],
   "source": [
    "def colorMap(x, palette='bright'):\n",
    "    import natsort\n",
    "    from collections import OrderedDict\n",
    "    #\n",
    "    n=len(set(x))\n",
    "    cpalette = sns.color_palette(palette,n_colors=n )\n",
    "    cdict = dict(zip( list(set(x)), cpalette))\n",
    "    cmap = [cdict[i] for i in x ]\n",
    "    cdict = OrderedDict( natsort.natsorted(cdict.items()) )\n",
    "    return cmap,cdict\n",
    "\n",
    "def drplot( dr, colorlab, ax, palette='bright', title=None, **kwargs ):\n",
    "    cmap,cdict = colorMap( colorlab, palette )\n",
    "    for lab,col in cdict.items():  \n",
    "        ix = colorlab.loc[colorlab==lab].index\n",
    "        ax.scatter( dr['X'][ix], dr['Y'][ix], c=[col]*len(ix), alpha=0.7, label=lab, edgecolors='none')\n",
    "    if( title is not None ):\n",
    "        ax.set_title(title, fontsize='x-large');\n",
    "    #\n",
    "    ax.set_xticks([])\n",
    "    ax.set_yticks([])\n",
    "    ax.spines['top'].set_visible(False)\n",
    "    ax.spines['right'].set_visible(False)\n",
    "    ax.spines['bottom'].set_visible(False)\n",
    "    ax.spines['left'].set_visible(False)"
   ]
  },
  {
   "cell_type": "code",
   "execution_count": null,
   "metadata": {},
   "outputs": [],
   "source": [
    "plt.rcParams.update({'font.size':8})\n",
    "\n",
    "fig, (ax1,ax2) = plt.subplots(1,2, figsize=(24,12), dpi=300 )\n",
    "\n",
    "drplot(dr[0], colorlab=cellAnnot['CellTypes'], ax=ax1, palette='bright', s=2, title='Seurat - UMAP' )\n",
    "\n",
    "drplot(dr[3], colorlab=cellAnnot['CellTypes'], ax=ax2, palette='bright', s=2, title='SCENIC AUC - UMAP' )\n",
    "ax2.legend(loc='right', bbox_to_anchor=(1.15, 0.5), ncol=1, markerscale=2, fontsize='x-large', frameon=False, title=\"\")\n",
    "\n",
    "#plt.tight_layout()\n",
    "#plt.savefig(\"hswoundWound-umap-seurat-scenic-louvain.pdf\", dpi=600, bbox_inches = \"tight\")"
   ]
  },
  {
   "cell_type": "markdown",
   "metadata": {},
   "source": [
    "# Regulon specificity scores (RSS) across predicted cell types"
   ]
  },
  {
   "cell_type": "code",
   "execution_count": 32,
   "metadata": {},
   "outputs": [],
   "source": [
    "from pyscenic.rss import regulon_specificity_scores\n",
    "from pyscenic.plotting import plot_rss\n",
    "import matplotlib.pyplot as plt\n",
    "from adjustText import adjust_text\n",
    "import seaborn as sns\n",
    "from pyscenic.binarization import binarize"
   ]
  },
  {
   "cell_type": "markdown",
   "metadata": {},
   "source": [
    "## Calculate RSS"
   ]
  },
  {
   "cell_type": "code",
   "execution_count": 33,
   "metadata": {},
   "outputs": [
    {
     "data": {
      "text/html": [
       "<div>\n",
       "<style scoped>\n",
       "    .dataframe tbody tr th:only-of-type {\n",
       "        vertical-align: middle;\n",
       "    }\n",
       "\n",
       "    .dataframe tbody tr th {\n",
       "        vertical-align: top;\n",
       "    }\n",
       "\n",
       "    .dataframe thead th {\n",
       "        text-align: right;\n",
       "    }\n",
       "</style>\n",
       "<table border=\"1\" class=\"dataframe\">\n",
       "  <thead>\n",
       "    <tr style=\"text-align: right;\">\n",
       "      <th></th>\n",
       "      <th>ALX1_(+)</th>\n",
       "      <th>ALX3_(+)</th>\n",
       "      <th>AR_(+)</th>\n",
       "      <th>ARID3A_(+)</th>\n",
       "      <th>ASCL2_(+)</th>\n",
       "      <th>ATF1_(+)</th>\n",
       "      <th>ATF3_(+)</th>\n",
       "      <th>ATF4_(+)</th>\n",
       "      <th>ATF6_(+)</th>\n",
       "      <th>ATOH7_(+)</th>\n",
       "      <th>...</th>\n",
       "      <th>ZNF572_(+)</th>\n",
       "      <th>ZNF585B_(+)</th>\n",
       "      <th>ZNF658_(+)</th>\n",
       "      <th>ZNF718_(+)</th>\n",
       "      <th>ZNF770_(+)</th>\n",
       "      <th>ZNF831_(+)</th>\n",
       "      <th>ZNF84_(+)</th>\n",
       "      <th>ZNF91_(+)</th>\n",
       "      <th>ZNF93_(+)</th>\n",
       "      <th>ZSCAN32_(+)</th>\n",
       "    </tr>\n",
       "  </thead>\n",
       "  <tbody>\n",
       "    <tr>\n",
       "      <th>Spi_II</th>\n",
       "      <td>0.178285</td>\n",
       "      <td>0.194468</td>\n",
       "      <td>0.386199</td>\n",
       "      <td>0.336191</td>\n",
       "      <td>0.298966</td>\n",
       "      <td>0.194055</td>\n",
       "      <td>0.383241</td>\n",
       "      <td>0.370513</td>\n",
       "      <td>0.367384</td>\n",
       "      <td>0.261966</td>\n",
       "      <td>...</td>\n",
       "      <td>0.229908</td>\n",
       "      <td>0.227327</td>\n",
       "      <td>0.232902</td>\n",
       "      <td>0.189479</td>\n",
       "      <td>0.388042</td>\n",
       "      <td>0.237420</td>\n",
       "      <td>0.303472</td>\n",
       "      <td>0.382536</td>\n",
       "      <td>0.176149</td>\n",
       "      <td>0.194156</td>\n",
       "    </tr>\n",
       "    <tr>\n",
       "      <th>Spi_I</th>\n",
       "      <td>0.176516</td>\n",
       "      <td>0.186907</td>\n",
       "      <td>0.304607</td>\n",
       "      <td>0.250296</td>\n",
       "      <td>0.280920</td>\n",
       "      <td>0.192529</td>\n",
       "      <td>0.294839</td>\n",
       "      <td>0.294800</td>\n",
       "      <td>0.276218</td>\n",
       "      <td>0.243174</td>\n",
       "      <td>...</td>\n",
       "      <td>0.219618</td>\n",
       "      <td>0.211086</td>\n",
       "      <td>0.212977</td>\n",
       "      <td>0.181585</td>\n",
       "      <td>0.286759</td>\n",
       "      <td>0.223902</td>\n",
       "      <td>0.263125</td>\n",
       "      <td>0.296121</td>\n",
       "      <td>0.180387</td>\n",
       "      <td>0.190407</td>\n",
       "    </tr>\n",
       "    <tr>\n",
       "      <th>Bas_I</th>\n",
       "      <td>0.194195</td>\n",
       "      <td>0.184321</td>\n",
       "      <td>0.369986</td>\n",
       "      <td>0.327213</td>\n",
       "      <td>0.504046</td>\n",
       "      <td>0.446768</td>\n",
       "      <td>0.358770</td>\n",
       "      <td>0.359243</td>\n",
       "      <td>0.347472</td>\n",
       "      <td>0.329024</td>\n",
       "      <td>...</td>\n",
       "      <td>0.212629</td>\n",
       "      <td>0.287674</td>\n",
       "      <td>0.199604</td>\n",
       "      <td>0.207419</td>\n",
       "      <td>0.312066</td>\n",
       "      <td>0.247099</td>\n",
       "      <td>0.374531</td>\n",
       "      <td>0.373608</td>\n",
       "      <td>0.213318</td>\n",
       "      <td>0.224681</td>\n",
       "    </tr>\n",
       "    <tr>\n",
       "      <th>Spi_III</th>\n",
       "      <td>0.171896</td>\n",
       "      <td>0.179735</td>\n",
       "      <td>0.262950</td>\n",
       "      <td>0.332305</td>\n",
       "      <td>0.221432</td>\n",
       "      <td>0.172430</td>\n",
       "      <td>0.294476</td>\n",
       "      <td>0.288519</td>\n",
       "      <td>0.308693</td>\n",
       "      <td>0.193025</td>\n",
       "      <td>...</td>\n",
       "      <td>0.185774</td>\n",
       "      <td>0.202287</td>\n",
       "      <td>0.188715</td>\n",
       "      <td>0.178028</td>\n",
       "      <td>0.320089</td>\n",
       "      <td>0.246034</td>\n",
       "      <td>0.222449</td>\n",
       "      <td>0.283769</td>\n",
       "      <td>0.168816</td>\n",
       "      <td>0.174247</td>\n",
       "    </tr>\n",
       "    <tr>\n",
       "      <th>Gra_I</th>\n",
       "      <td>0.178948</td>\n",
       "      <td>0.172215</td>\n",
       "      <td>0.187592</td>\n",
       "      <td>0.201877</td>\n",
       "      <td>0.177110</td>\n",
       "      <td>0.168836</td>\n",
       "      <td>0.204837</td>\n",
       "      <td>0.205304</td>\n",
       "      <td>0.233434</td>\n",
       "      <td>0.169269</td>\n",
       "      <td>...</td>\n",
       "      <td>0.171115</td>\n",
       "      <td>0.209949</td>\n",
       "      <td>0.169912</td>\n",
       "      <td>0.168760</td>\n",
       "      <td>0.240220</td>\n",
       "      <td>0.294048</td>\n",
       "      <td>0.200031</td>\n",
       "      <td>0.210241</td>\n",
       "      <td>0.169349</td>\n",
       "      <td>0.169582</td>\n",
       "    </tr>\n",
       "    <tr>\n",
       "      <th>Spi_V</th>\n",
       "      <td>0.173612</td>\n",
       "      <td>0.178615</td>\n",
       "      <td>0.267054</td>\n",
       "      <td>0.287304</td>\n",
       "      <td>0.253097</td>\n",
       "      <td>0.181962</td>\n",
       "      <td>0.308912</td>\n",
       "      <td>0.325093</td>\n",
       "      <td>0.273094</td>\n",
       "      <td>0.228050</td>\n",
       "      <td>...</td>\n",
       "      <td>0.185184</td>\n",
       "      <td>0.189921</td>\n",
       "      <td>0.184597</td>\n",
       "      <td>0.175915</td>\n",
       "      <td>0.308892</td>\n",
       "      <td>0.387454</td>\n",
       "      <td>0.206925</td>\n",
       "      <td>0.281134</td>\n",
       "      <td>0.171344</td>\n",
       "      <td>0.179104</td>\n",
       "    </tr>\n",
       "    <tr>\n",
       "      <th>Spi_IV</th>\n",
       "      <td>0.171695</td>\n",
       "      <td>0.170769</td>\n",
       "      <td>0.185903</td>\n",
       "      <td>0.191038</td>\n",
       "      <td>0.179620</td>\n",
       "      <td>0.171575</td>\n",
       "      <td>0.190676</td>\n",
       "      <td>0.187851</td>\n",
       "      <td>0.185263</td>\n",
       "      <td>0.176592</td>\n",
       "      <td>...</td>\n",
       "      <td>0.171839</td>\n",
       "      <td>0.183593</td>\n",
       "      <td>0.170890</td>\n",
       "      <td>0.172873</td>\n",
       "      <td>0.188472</td>\n",
       "      <td>0.189038</td>\n",
       "      <td>0.179347</td>\n",
       "      <td>0.186559</td>\n",
       "      <td>0.169312</td>\n",
       "      <td>0.172637</td>\n",
       "    </tr>\n",
       "    <tr>\n",
       "      <th>Bas_II</th>\n",
       "      <td>0.172690</td>\n",
       "      <td>0.175823</td>\n",
       "      <td>0.254096</td>\n",
       "      <td>0.213104</td>\n",
       "      <td>0.259027</td>\n",
       "      <td>0.210966</td>\n",
       "      <td>0.243284</td>\n",
       "      <td>0.248642</td>\n",
       "      <td>0.221941</td>\n",
       "      <td>0.227070</td>\n",
       "      <td>...</td>\n",
       "      <td>0.182499</td>\n",
       "      <td>0.186294</td>\n",
       "      <td>0.178512</td>\n",
       "      <td>0.204210</td>\n",
       "      <td>0.224834</td>\n",
       "      <td>0.192186</td>\n",
       "      <td>0.244536</td>\n",
       "      <td>0.243981</td>\n",
       "      <td>0.171162</td>\n",
       "      <td>0.181747</td>\n",
       "    </tr>\n",
       "    <tr>\n",
       "      <th>Bas_III</th>\n",
       "      <td>0.171738</td>\n",
       "      <td>0.168828</td>\n",
       "      <td>0.197256</td>\n",
       "      <td>0.188412</td>\n",
       "      <td>0.256875</td>\n",
       "      <td>0.231443</td>\n",
       "      <td>0.207874</td>\n",
       "      <td>0.218687</td>\n",
       "      <td>0.193738</td>\n",
       "      <td>0.218490</td>\n",
       "      <td>...</td>\n",
       "      <td>0.172481</td>\n",
       "      <td>0.179011</td>\n",
       "      <td>0.168729</td>\n",
       "      <td>0.172207</td>\n",
       "      <td>0.196377</td>\n",
       "      <td>0.194472</td>\n",
       "      <td>0.190203</td>\n",
       "      <td>0.203678</td>\n",
       "      <td>0.174759</td>\n",
       "      <td>0.173109</td>\n",
       "    </tr>\n",
       "  </tbody>\n",
       "</table>\n",
       "<p>9 rows × 384 columns</p>\n",
       "</div>"
      ],
      "text/plain": [
       "         ALX1_(+)  ALX3_(+)    AR_(+)  ARID3A_(+)  ASCL2_(+)  ATF1_(+)  \\\n",
       "Spi_II   0.178285  0.194468  0.386199    0.336191   0.298966  0.194055   \n",
       "Spi_I    0.176516  0.186907  0.304607    0.250296   0.280920  0.192529   \n",
       "Bas_I    0.194195  0.184321  0.369986    0.327213   0.504046  0.446768   \n",
       "Spi_III  0.171896  0.179735  0.262950    0.332305   0.221432  0.172430   \n",
       "Gra_I    0.178948  0.172215  0.187592    0.201877   0.177110  0.168836   \n",
       "Spi_V    0.173612  0.178615  0.267054    0.287304   0.253097  0.181962   \n",
       "Spi_IV   0.171695  0.170769  0.185903    0.191038   0.179620  0.171575   \n",
       "Bas_II   0.172690  0.175823  0.254096    0.213104   0.259027  0.210966   \n",
       "Bas_III  0.171738  0.168828  0.197256    0.188412   0.256875  0.231443   \n",
       "\n",
       "         ATF3_(+)  ATF4_(+)  ATF6_(+)  ATOH7_(+)  ...  ZNF572_(+)  \\\n",
       "Spi_II   0.383241  0.370513  0.367384   0.261966  ...    0.229908   \n",
       "Spi_I    0.294839  0.294800  0.276218   0.243174  ...    0.219618   \n",
       "Bas_I    0.358770  0.359243  0.347472   0.329024  ...    0.212629   \n",
       "Spi_III  0.294476  0.288519  0.308693   0.193025  ...    0.185774   \n",
       "Gra_I    0.204837  0.205304  0.233434   0.169269  ...    0.171115   \n",
       "Spi_V    0.308912  0.325093  0.273094   0.228050  ...    0.185184   \n",
       "Spi_IV   0.190676  0.187851  0.185263   0.176592  ...    0.171839   \n",
       "Bas_II   0.243284  0.248642  0.221941   0.227070  ...    0.182499   \n",
       "Bas_III  0.207874  0.218687  0.193738   0.218490  ...    0.172481   \n",
       "\n",
       "         ZNF585B_(+)  ZNF658_(+)  ZNF718_(+)  ZNF770_(+)  ZNF831_(+)  \\\n",
       "Spi_II      0.227327    0.232902    0.189479    0.388042    0.237420   \n",
       "Spi_I       0.211086    0.212977    0.181585    0.286759    0.223902   \n",
       "Bas_I       0.287674    0.199604    0.207419    0.312066    0.247099   \n",
       "Spi_III     0.202287    0.188715    0.178028    0.320089    0.246034   \n",
       "Gra_I       0.209949    0.169912    0.168760    0.240220    0.294048   \n",
       "Spi_V       0.189921    0.184597    0.175915    0.308892    0.387454   \n",
       "Spi_IV      0.183593    0.170890    0.172873    0.188472    0.189038   \n",
       "Bas_II      0.186294    0.178512    0.204210    0.224834    0.192186   \n",
       "Bas_III     0.179011    0.168729    0.172207    0.196377    0.194472   \n",
       "\n",
       "         ZNF84_(+)  ZNF91_(+)  ZNF93_(+)  ZSCAN32_(+)  \n",
       "Spi_II    0.303472   0.382536   0.176149     0.194156  \n",
       "Spi_I     0.263125   0.296121   0.180387     0.190407  \n",
       "Bas_I     0.374531   0.373608   0.213318     0.224681  \n",
       "Spi_III   0.222449   0.283769   0.168816     0.174247  \n",
       "Gra_I     0.200031   0.210241   0.169349     0.169582  \n",
       "Spi_V     0.206925   0.281134   0.171344     0.179104  \n",
       "Spi_IV    0.179347   0.186559   0.169312     0.172637  \n",
       "Bas_II    0.244536   0.243981   0.171162     0.181747  \n",
       "Bas_III   0.190203   0.203678   0.174759     0.173109  \n",
       "\n",
       "[9 rows x 384 columns]"
      ]
     },
     "execution_count": 33,
     "metadata": {},
     "output_type": "execute_result"
    }
   ],
   "source": [
    "rss_cellType = regulon_specificity_scores( auc_mtx, cellAnnot['CellTypes'] )\n",
    "rss_cellType"
   ]
  },
  {
   "cell_type": "code",
   "execution_count": 34,
   "metadata": {},
   "outputs": [],
   "source": [
    "#export the results to files for next time use\n",
    "rss_cellType.to_csv('z_hswoundWound_cellType_RSSs.csv') "
   ]
  },
  {
   "cell_type": "markdown",
   "metadata": {},
   "source": [
    "## RSS panel plot with all cell types "
   ]
  },
  {
   "cell_type": "code",
   "execution_count": null,
   "metadata": {},
   "outputs": [],
   "source": [
    "cats = sorted(list(set(cellAnnot['CellTypes'])))\n",
    "\n",
    "fig = plt.figure(figsize=(12,12))\n",
    "for c,num in zip(cats, range(1,len(cats)+1)):\n",
    "    x=rss_cellType.T[c]\n",
    "    ax = fig.add_subplot(3,3,num)\n",
    "    plot_rss(rss_cellType, c, top_n=10, max_n=None, ax=ax)\n",
    "    ax.set_ylim( x.min()-(x.max()-x.min())*0.05 , x.max()+(x.max()-x.min())*0.05 )\n",
    "    for t in ax.texts:\n",
    "        t.set_fontsize(12)\n",
    "    ax.set_ylabel('')\n",
    "    ax.set_xlabel('')\n",
    "    adjust_text(ax.texts, autoalign='xy', ha='right', va='bottom', arrowprops=dict(arrowstyle='-',color='lightgrey'), precision=0.001 )\n",
    " \n",
    "fig.text(0.5, 0.0, 'Regulon', ha='center', va='center', size='x-large')\n",
    "fig.text(0.00, 0.5, 'Regulon specificity score (RSS)', ha='center', va='center', rotation='vertical', size='x-large')\n",
    "plt.tight_layout()\n",
    "plt.rcParams.update({\n",
    "    'figure.autolayout': True,\n",
    "        'figure.titlesize': 'large' ,\n",
    "        'axes.labelsize': 'medium',\n",
    "        'axes.titlesize':'large',\n",
    "        'xtick.labelsize':'medium',\n",
    "        'ytick.labelsize':'medium'\n",
    "        })\n",
    "plt.savefig(\"z_hsWound_cellType-RSS-top5.pdf\", dpi=600, bbox_inches = \"tight\")\n",
    "plt.show()"
   ]
  },
  {
   "cell_type": "markdown",
   "metadata": {},
   "source": [
    "## Select the top 5 regulons from each cell type"
   ]
  },
  {
   "cell_type": "code",
   "execution_count": 40,
   "metadata": {},
   "outputs": [],
   "source": [
    "topreg = []\n",
    "for i,c in enumerate(cats):\n",
    "    topreg.extend(\n",
    "        list(rss_cellType.T[c].sort_values(ascending=False)[:5].index)\n",
    "    )\n",
    "topreg = list(set(topreg))"
   ]
  },
  {
   "cell_type": "code",
   "execution_count": 41,
   "metadata": {},
   "outputs": [
    {
     "name": "stdout",
     "output_type": "stream",
     "text": [
      "43\n",
      "EN1_(+) YEATS4_(+) MYBL1_(+) SNAI2_(+) MYB_(+) E2F7_(+) E2F1_(+) NKX2-8_(+) DLX3_(+) EN2_(+) GIT2_(+) SMARCC2_(+) NR2F1_(+) LHX6_(+) AR_(+) ZNF326_(+) MSC_(+) STAT4_(+) ELF4_(+) RELA_(+) THAP1_(+) SIRT6_(+) STAT5A_(+) ZNF831_(+) KLF8_(+) SMAD3_(+) USF2_(+) SOX8_(+) MTA3_(+) DBX2_(+) FOXI3_(+) PRDM1_(+) RARG_(+) EOMES_(+) BANP_(+) NFE2L1_(+) PBX1_(+) IRF5_(+) NR1I3_(+) ID4_(+) MAF_(+) NEUROD2_(+) GADD45A_(+)\n"
     ]
    }
   ],
   "source": [
    "print(len(topreg))\n",
    "print(*topreg) #display all the top rss TFs"
   ]
  },
  {
   "cell_type": "markdown",
   "metadata": {},
   "source": [
    "## Generate a Z-score for each regulon to enable comparison between regulons"
   ]
  },
  {
   "cell_type": "code",
   "execution_count": null,
   "metadata": {},
   "outputs": [],
   "source": [
    "auc_mtx_Z = pd.DataFrame( index=auc_mtx.index )\n"
   ]
  },
  {
   "cell_type": "code",
   "execution_count": null,
   "metadata": {},
   "outputs": [],
   "source": [
    "for col in list(auc_mtx.columns):\n",
    "    auc_mtx_Z[ col ] = ( auc_mtx[col] - auc_mtx[col].mean()) / auc_mtx[col].std(ddof=0)\n",
    "#auc_mtx_Z.sort_index(inplace=True)"
   ]
  },
  {
   "cell_type": "code",
   "execution_count": null,
   "metadata": {},
   "outputs": [],
   "source": [
    "auc_mtx_Z"
   ]
  },
  {
   "cell_type": "markdown",
   "metadata": {},
   "source": [
    "## Generate a heatmap "
   ]
  },
  {
   "cell_type": "code",
   "execution_count": 44,
   "metadata": {},
   "outputs": [],
   "source": [
    "def palplot(pal, names, colors=None, size=1):\n",
    "    n = len(pal)\n",
    "    f, ax = plt.subplots(1, 1, figsize=(n * size, size))\n",
    "    ax.imshow(np.arange(n).reshape(1, n),\n",
    "              cmap=mpl.colors.ListedColormap(list(pal)),\n",
    "              interpolation=\"nearest\", aspect=\"auto\")\n",
    "    ax.set_xticks(np.arange(n) - .5)\n",
    "    ax.set_yticks([-.5, .5])\n",
    "    ax.set_xticklabels([])\n",
    "    ax.set_yticklabels([])\n",
    "    colors = n * ['k'] if colors is None else colors\n",
    "    for idx, (name, color) in enumerate(zip(names, colors)):\n",
    "        ax.text(0.0+idx, 0.0, name, color=color, horizontalalignment='center', verticalalignment='center')\n",
    "    return f"
   ]
  },
  {
   "cell_type": "code",
   "execution_count": 45,
   "metadata": {},
   "outputs": [],
   "source": [
    "colors = sns.color_palette('bright',n_colors=len(cats) )\n",
    "colorsd = dict( zip( cats, colors ))\n",
    "colormap = [ colorsd[x] for x in cellAnnot['CellTypes'] ]"
   ]
  },
  {
   "cell_type": "code",
   "execution_count": null,
   "metadata": {},
   "outputs": [],
   "source": [
    "sns.set()\n",
    "sns.set(font_scale=0.8)\n",
    "fig = palplot( colors, cats, size=1.0)"
   ]
  },
  {
   "cell_type": "code",
   "execution_count": null,
   "metadata": {},
   "outputs": [],
   "source": [
    "sns.set(font_scale=1.2)\n",
    "g = sns.clustermap(auc_mtx_Z[topreg], annot=False,  square=False,  linecolor='gray',\n",
    "    yticklabels=False, xticklabels=True, vmin=-2, vmax=6, row_colors=colormap,\n",
    "    cmap=\"YlGnBu\", figsize=(21,16) )\n",
    "g.cax.set_visible(True)\n",
    "g.ax_heatmap.set_ylabel('')\n",
    "g.ax_heatmap.set_xlabel('')\n",
    "plt.savefig(\"z_hsWound_cellType-heatmap-top5.pdf\", dpi=600, bbox_inches = \"tight\")"
   ]
  },
  {
   "cell_type": "markdown",
   "metadata": {},
   "source": [
    "## Generate a binary regulon activity matrix: "
   ]
  },
  {
   "cell_type": "code",
   "execution_count": 49,
   "metadata": {
    "scrolled": true
   },
   "outputs": [
    {
     "data": {
      "text/html": [
       "<div>\n",
       "<style scoped>\n",
       "    .dataframe tbody tr th:only-of-type {\n",
       "        vertical-align: middle;\n",
       "    }\n",
       "\n",
       "    .dataframe tbody tr th {\n",
       "        vertical-align: top;\n",
       "    }\n",
       "\n",
       "    .dataframe thead th {\n",
       "        text-align: right;\n",
       "    }\n",
       "</style>\n",
       "<table border=\"1\" class=\"dataframe\">\n",
       "  <thead>\n",
       "    <tr style=\"text-align: right;\">\n",
       "      <th></th>\n",
       "      <th>ALX1_(+)</th>\n",
       "      <th>ALX3_(+)</th>\n",
       "      <th>AR_(+)</th>\n",
       "      <th>ARID3A_(+)</th>\n",
       "      <th>ASCL2_(+)</th>\n",
       "      <th>ATF1_(+)</th>\n",
       "      <th>ATF3_(+)</th>\n",
       "      <th>ATF4_(+)</th>\n",
       "      <th>ATF6_(+)</th>\n",
       "      <th>ATOH7_(+)</th>\n",
       "      <th>...</th>\n",
       "      <th>ZNF572_(+)</th>\n",
       "      <th>ZNF585B_(+)</th>\n",
       "      <th>ZNF658_(+)</th>\n",
       "      <th>ZNF718_(+)</th>\n",
       "      <th>ZNF770_(+)</th>\n",
       "      <th>ZNF831_(+)</th>\n",
       "      <th>ZNF84_(+)</th>\n",
       "      <th>ZNF91_(+)</th>\n",
       "      <th>ZNF93_(+)</th>\n",
       "      <th>ZSCAN32_(+)</th>\n",
       "    </tr>\n",
       "  </thead>\n",
       "  <tbody>\n",
       "    <tr>\n",
       "      <th>PWH26D0_AAACCCACACGTAACT-1</th>\n",
       "      <td>0</td>\n",
       "      <td>0</td>\n",
       "      <td>0</td>\n",
       "      <td>1</td>\n",
       "      <td>0</td>\n",
       "      <td>0</td>\n",
       "      <td>0</td>\n",
       "      <td>0</td>\n",
       "      <td>1</td>\n",
       "      <td>0</td>\n",
       "      <td>...</td>\n",
       "      <td>0</td>\n",
       "      <td>0</td>\n",
       "      <td>0</td>\n",
       "      <td>0</td>\n",
       "      <td>0</td>\n",
       "      <td>0</td>\n",
       "      <td>0</td>\n",
       "      <td>0</td>\n",
       "      <td>0</td>\n",
       "      <td>0</td>\n",
       "    </tr>\n",
       "    <tr>\n",
       "      <th>PWH26D0_AAACCCACACTGAGGA-1</th>\n",
       "      <td>0</td>\n",
       "      <td>0</td>\n",
       "      <td>0</td>\n",
       "      <td>0</td>\n",
       "      <td>0</td>\n",
       "      <td>0</td>\n",
       "      <td>0</td>\n",
       "      <td>0</td>\n",
       "      <td>0</td>\n",
       "      <td>1</td>\n",
       "      <td>...</td>\n",
       "      <td>0</td>\n",
       "      <td>0</td>\n",
       "      <td>0</td>\n",
       "      <td>0</td>\n",
       "      <td>0</td>\n",
       "      <td>0</td>\n",
       "      <td>1</td>\n",
       "      <td>0</td>\n",
       "      <td>0</td>\n",
       "      <td>0</td>\n",
       "    </tr>\n",
       "    <tr>\n",
       "      <th>PWH26D0_AAACCCAGTCCGACGT-1</th>\n",
       "      <td>0</td>\n",
       "      <td>0</td>\n",
       "      <td>0</td>\n",
       "      <td>0</td>\n",
       "      <td>0</td>\n",
       "      <td>0</td>\n",
       "      <td>0</td>\n",
       "      <td>0</td>\n",
       "      <td>0</td>\n",
       "      <td>0</td>\n",
       "      <td>...</td>\n",
       "      <td>0</td>\n",
       "      <td>0</td>\n",
       "      <td>0</td>\n",
       "      <td>0</td>\n",
       "      <td>0</td>\n",
       "      <td>0</td>\n",
       "      <td>0</td>\n",
       "      <td>0</td>\n",
       "      <td>0</td>\n",
       "      <td>0</td>\n",
       "    </tr>\n",
       "    <tr>\n",
       "      <th>PWH26D0_AAACCCATCAGCGGAA-1</th>\n",
       "      <td>0</td>\n",
       "      <td>0</td>\n",
       "      <td>0</td>\n",
       "      <td>1</td>\n",
       "      <td>1</td>\n",
       "      <td>0</td>\n",
       "      <td>0</td>\n",
       "      <td>0</td>\n",
       "      <td>0</td>\n",
       "      <td>0</td>\n",
       "      <td>...</td>\n",
       "      <td>0</td>\n",
       "      <td>0</td>\n",
       "      <td>0</td>\n",
       "      <td>0</td>\n",
       "      <td>0</td>\n",
       "      <td>0</td>\n",
       "      <td>1</td>\n",
       "      <td>0</td>\n",
       "      <td>0</td>\n",
       "      <td>0</td>\n",
       "    </tr>\n",
       "    <tr>\n",
       "      <th>PWH26D0_AAACGAACAATGAAAC-1</th>\n",
       "      <td>0</td>\n",
       "      <td>0</td>\n",
       "      <td>0</td>\n",
       "      <td>1</td>\n",
       "      <td>0</td>\n",
       "      <td>0</td>\n",
       "      <td>0</td>\n",
       "      <td>0</td>\n",
       "      <td>1</td>\n",
       "      <td>0</td>\n",
       "      <td>...</td>\n",
       "      <td>0</td>\n",
       "      <td>0</td>\n",
       "      <td>0</td>\n",
       "      <td>0</td>\n",
       "      <td>0</td>\n",
       "      <td>0</td>\n",
       "      <td>0</td>\n",
       "      <td>0</td>\n",
       "      <td>0</td>\n",
       "      <td>0</td>\n",
       "    </tr>\n",
       "  </tbody>\n",
       "</table>\n",
       "<p>5 rows × 384 columns</p>\n",
       "</div>"
      ],
      "text/plain": [
       "                            ALX1_(+)  ALX3_(+)  AR_(+)  ARID3A_(+)  ASCL2_(+)  \\\n",
       "PWH26D0_AAACCCACACGTAACT-1         0         0       0           1          0   \n",
       "PWH26D0_AAACCCACACTGAGGA-1         0         0       0           0          0   \n",
       "PWH26D0_AAACCCAGTCCGACGT-1         0         0       0           0          0   \n",
       "PWH26D0_AAACCCATCAGCGGAA-1         0         0       0           1          1   \n",
       "PWH26D0_AAACGAACAATGAAAC-1         0         0       0           1          0   \n",
       "\n",
       "                            ATF1_(+)  ATF3_(+)  ATF4_(+)  ATF6_(+)  ATOH7_(+)  \\\n",
       "PWH26D0_AAACCCACACGTAACT-1         0         0         0         1          0   \n",
       "PWH26D0_AAACCCACACTGAGGA-1         0         0         0         0          1   \n",
       "PWH26D0_AAACCCAGTCCGACGT-1         0         0         0         0          0   \n",
       "PWH26D0_AAACCCATCAGCGGAA-1         0         0         0         0          0   \n",
       "PWH26D0_AAACGAACAATGAAAC-1         0         0         0         1          0   \n",
       "\n",
       "                            ...  ZNF572_(+)  ZNF585B_(+)  ZNF658_(+)  \\\n",
       "PWH26D0_AAACCCACACGTAACT-1  ...           0            0           0   \n",
       "PWH26D0_AAACCCACACTGAGGA-1  ...           0            0           0   \n",
       "PWH26D0_AAACCCAGTCCGACGT-1  ...           0            0           0   \n",
       "PWH26D0_AAACCCATCAGCGGAA-1  ...           0            0           0   \n",
       "PWH26D0_AAACGAACAATGAAAC-1  ...           0            0           0   \n",
       "\n",
       "                            ZNF718_(+)  ZNF770_(+)  ZNF831_(+)  ZNF84_(+)  \\\n",
       "PWH26D0_AAACCCACACGTAACT-1           0           0           0          0   \n",
       "PWH26D0_AAACCCACACTGAGGA-1           0           0           0          1   \n",
       "PWH26D0_AAACCCAGTCCGACGT-1           0           0           0          0   \n",
       "PWH26D0_AAACCCATCAGCGGAA-1           0           0           0          1   \n",
       "PWH26D0_AAACGAACAATGAAAC-1           0           0           0          0   \n",
       "\n",
       "                            ZNF91_(+)  ZNF93_(+)  ZSCAN32_(+)  \n",
       "PWH26D0_AAACCCACACGTAACT-1          0          0            0  \n",
       "PWH26D0_AAACCCACACTGAGGA-1          0          0            0  \n",
       "PWH26D0_AAACCCAGTCCGACGT-1          0          0            0  \n",
       "PWH26D0_AAACCCATCAGCGGAA-1          0          0            0  \n",
       "PWH26D0_AAACGAACAATGAAAC-1          0          0            0  \n",
       "\n",
       "[5 rows x 384 columns]"
      ]
     },
     "execution_count": 49,
     "metadata": {},
     "output_type": "execute_result"
    }
   ],
   "source": [
    "binary_mtx, auc_thresholds = binarize( auc_mtx, num_workers=6 )\n",
    "binary_mtx.head()"
   ]
  },
  {
   "cell_type": "code",
   "execution_count": 50,
   "metadata": {},
   "outputs": [],
   "source": [
    "#export the results to files for next time use\n",
    "binary_mtx.to_csv('z_hsWound_cellType_binarize.csv') \n",
    "auc_thresholds.to_frame().rename(columns={0:'threshold'}).to_csv('z_hsWound_cellType_binarize_thresholds.csv')"
   ]
  },
  {
   "cell_type": "code",
   "execution_count": 51,
   "metadata": {},
   "outputs": [],
   "source": [
    "#read the file\n",
    "binary_mtx = pd.read_csv('z_hsWound_cellType_binarize.csv', index_col=0)\n",
    "auc_thresholds = pd.read_csv('z_hsWound_cellType_binarize_thresholds.csv', index_col=0).threshold"
   ]
  },
  {
   "cell_type": "code",
   "execution_count": 52,
   "metadata": {},
   "outputs": [],
   "source": [
    "import umap\n",
    "\n",
    "# UMAP using binary regulon activity\n",
    "runUmap = umap.UMAP(n_neighbors=10, min_dist=0.4, metric='correlation').fit_transform\n",
    "dr_umap = runUmap(binary_mtx)\n",
    "pd.DataFrame(dr_umap, columns=['X', 'Y'], index=binary_mtx.index).to_csv(\"scenic_binary_umap.txt\", sep='\\t')\n",
    "# tSNE\n",
    "tsne = TSNE(n_jobs=10)\n",
    "dr_tsne = tsne.fit_transform(binary_mtx)\n",
    "pd.DataFrame(dr_tsne, columns=['X', 'Y'], index=binary_mtx.index).to_csv(\"scenic_binary_tsne.txt\", sep='\\t')\n"
   ]
  },
  {
   "cell_type": "code",
   "execution_count": null,
   "metadata": {
    "scrolled": false
   },
   "outputs": [],
   "source": [
    "# select regulons:\n",
    "r = [ 'E2f7_(+)', 'Nfe2_(+)', 'Dlx5_(+)' ]\n",
    "\n",
    "fig, axs = plt.subplots(1, 3, figsize=(12, 4), dpi=150, sharey=False)\n",
    "for i,ax in enumerate(axs):\n",
    "    sns.distplot(auc_mtx[ r[i] ], ax=ax, norm_hist=True, bins=100)\n",
    "    ax.plot( [ auc_thresholds[ r[i] ] ]*2, ax.get_ylim(), 'r:')\n",
    "    ax.title.set_text( r[i] )\n",
    "    ax.set_xlabel('')\n",
    "    \n",
    "fig.text(-0.01, 0.5, 'Frequency', ha='center', va='center', rotation='vertical', size='large')\n",
    "fig.text(0.5, -0.01, 'AUC', ha='center', va='center', rotation='horizontal', size='large')\n",
    "\n",
    "fig.tight_layout()\n",
    "fig.savefig('miceWound_cellType-binaryPlot2.pdf', dpi=600, bbox_inches='tight')"
   ]
  },
  {
   "cell_type": "markdown",
   "metadata": {},
   "source": [
    "## Plot the selected regulons you are interested in"
   ]
  },
  {
   "cell_type": "code",
   "execution_count": null,
   "metadata": {
    "scrolled": true
   },
   "outputs": [],
   "source": [
    "fig, ((ax1, ax2, ax3, ax4), (ax5, ax6, ax7, ax8)) = plt.subplots(2, 4, figsize=(12, 6), dpi=300)\n",
    "\n",
    "plot_binarization(auc_mtx, 'Tfap4_(+)', auc_thresholds['Tfap4_(+)'], ax=ax1)\n",
    "plot_binarization(auc_mtx, 'Meis2_(+)', auc_thresholds['Meis2_(+)'], ax=ax2)\n",
    "plot_binarization(auc_mtx, 'Tcf23_(+)', auc_thresholds['Tcf23_(+)'], ax=ax3)\n",
    "plot_binarization(auc_mtx, 'Faap24_(+)', auc_thresholds['Faap24_(+)'], ax=ax4)\n",
    "plot_binarization(auc_mtx, 'Arnt2_(+)', auc_thresholds['Arnt2_(+)'], ax=ax5)\n",
    "plot_binarization(auc_mtx, 'Nfatc3_(+)', auc_thresholds['Nfatc3_(+)'], ax=ax6)\n",
    "plot_binarization(auc_mtx, 'Nfe2_(+)', auc_thresholds['Nfe2_(+)'], ax=ax7)\n",
    "plot_binarization(auc_mtx, 'Dlx5_(+)', auc_thresholds['Dlx5_(+)'], ax=ax8)\n",
    "\n",
    "plt.tight_layout()\n",
    "#savesvg('hists - GSE115978 - binarization.svg', fig)"
   ]
  },
  {
   "cell_type": "markdown",
   "metadata": {},
   "source": [
    "## Create heatmap with binarized regulon activity"
   ]
  },
  {
   "cell_type": "code",
   "execution_count": 59,
   "metadata": {},
   "outputs": [],
   "source": [
    "#Same function as above heatmap based on RSS \n",
    "def palplot(pal, names, colors=None, size=1):\n",
    "    n = len(pal)\n",
    "    f, ax = plt.subplots(1, 1, figsize=(n * size, size))\n",
    "    ax.imshow(np.arange(n).reshape(1, n),\n",
    "              cmap=mpl.colors.ListedColormap(list(pal)),\n",
    "              interpolation=\"nearest\", aspect=\"auto\")\n",
    "    ax.set_xticks(np.arange(n) - .5)\n",
    "    ax.set_yticks([-.5, .5])\n",
    "    ax.set_xticklabels([])\n",
    "    ax.set_yticklabels([])\n",
    "    colors = n * ['k'] if colors is None else colors\n",
    "    for idx, (name, color) in enumerate(zip(names, colors)):\n",
    "        ax.text(0.0+idx, 0.0, name, color=color, horizontalalignment='center', verticalalignment='center')\n",
    "    return f"
   ]
  },
  {
   "cell_type": "code",
   "execution_count": 68,
   "metadata": {},
   "outputs": [],
   "source": [
    "cats = sorted(list(set(cellAnnot['CellTypes'])))\n",
    "colors = sns.color_palette('bright',n_colors=len(cats))\n",
    "colorsd = dict( zip( cats, colors ))\n",
    "colormap = [ colorsd[x] for x in cellAnnot['CellTypes'] ]"
   ]
  },
  {
   "cell_type": "code",
   "execution_count": null,
   "metadata": {},
   "outputs": [],
   "source": [
    "cell_type_color_lut = dict(zip(cellAnnot['CellTypes'], colors))\n",
    "bw_palette = sns.xkcd_palette([\"white\", \"black\"])\n",
    "sns.set()\n",
    "sns.set_style(\"whitegrid\")\n",
    "fig = palplot(bw_palette, ['OFF', 'ON'], ['k', 'w'])"
   ]
  },
  {
   "cell_type": "code",
   "execution_count": null,
   "metadata": {},
   "outputs": [],
   "source": [
    "sns.set()\n",
    "sns.set(font_scale=0.8)\n",
    "fig = palplot( colors, cats, size=1.0)"
   ]
  },
  {
   "cell_type": "code",
   "execution_count": null,
   "metadata": {},
   "outputs": [],
   "source": [
    "sns.set()\n",
    "sns.set(font_scale=1.2)\n",
    "g = sns.clustermap(binary_mtx[topreg], annot=False, square=False, linecolor='gray',\n",
    "                   row_colors=colormap, yticklabels=False, xticklabels=True, \n",
    "                   cmap=bw_palette, figsize=(21,16))\n",
    "g.cax.set_visible(False)\n",
    "#g.ax_row_dendrogram.set_visible(False)\n",
    "#g.ax_col_dendrogram.set_visible(False)\n",
    "#g.ax_heatmap.set_xlabel('Regulons')\n",
    "#g.ax_heatmap.set_ylabel('Cells')\n",
    "plt.savefig(\"miceWound_cellType-heatmap-binary-top5.pdf\", dpi=600, bbox_inches = \"tight\")"
   ]
  },
  {
   "cell_type": "markdown",
   "metadata": {},
   "source": [
    "### CELL TYPE SPECIFIC REGULATORS - Z-SCORE "
   ]
  },
  {
   "cell_type": "code",
   "execution_count": null,
   "metadata": {
    "scrolled": true
   },
   "outputs": [],
   "source": [
    "#This is different from above Z-score (Here focus on each cell type)\n",
    "signature_column_names = list(cellAnnot.select_dtypes('number').columns)\n",
    "signature_column_names = list(filter(lambda s: s.startswith('Regulon_'), signature_column_names))\n",
    "df_scores = cellAnnot[signature_column_names + ['CellTypes']]\n",
    "\n",
    "df_results = ((df_scores.groupby(by='CellTypes').mean() - cellAnnot[signature_column_names].mean())/ cellAnnot[signature_column_names].std()).stack().reset_index().rename(columns={'level_1': 'regulon', 0:'Z'})\n",
    "df_results['regulon'] = list(map(lambda s: s[8:], df_results.regulon))\n",
    "df_results[(df_results.Z >= 3.0)].sort_values('Z', ascending=False).head(10)"
   ]
  },
  {
   "cell_type": "code",
   "execution_count": 54,
   "metadata": {},
   "outputs": [],
   "source": [
    "df_results.to_csv('z_hsWound_cellType_Z-scores.csv') "
   ]
  },
  {
   "cell_type": "code",
   "execution_count": 63,
   "metadata": {
    "scrolled": true
   },
   "outputs": [
    {
     "name": "stdout",
     "output_type": "stream",
     "text": [
      "85\n",
      "9\n"
     ]
    }
   ],
   "source": [
    "cellType_top3reg = df_results.sort_values('Z', ascending=False).groupby(by='CellTypes').head(10).sort_values('CellTypes', ascending=False)\n",
    "print(len(cellType_top3reg['regulon'].unique()))\n",
    "print(len(cellType_top3reg['CellTypes'].unique()))"
   ]
  },
  {
   "cell_type": "code",
   "execution_count": null,
   "metadata": {},
   "outputs": [],
   "source": [
    "cellType_top3reg"
   ]
  },
  {
   "cell_type": "code",
   "execution_count": null,
   "metadata": {
    "scrolled": false
   },
   "outputs": [],
   "source": [
    "plt.rcParams.update({'font.size':12})\n",
    "df_heatmap = pd.pivot_table(data=cellType_top3reg,\n",
    "                           index='regulon', columns='CellTypes', values='Z')\n",
    "#df_heatmap.drop(index='Myocyte', inplace=True) #leave out Myocyte because many TFs are highly enriched (becuase of small number of cells).\n",
    "fig, ax1 = plt.subplots(1, 1, figsize=(30, 20), dpi=150)\n",
    "sns.heatmap(df_heatmap, ax=ax1, annot=True, fmt=\".1f\", linewidths=.7, cbar=False, square=True, linecolor='gray', \n",
    "            cmap=\"YlGnBu\", annot_kws={\"size\": 10})\n",
    "ax1.set_ylabel('')\n",
    "plt.tight_layout()\n",
    "plt.savefig('z_hsWound_cellType-heatmap-Z-scores.pdf', dpi=600, bbox_inches = \"tight\")"
   ]
  },
  {
   "cell_type": "markdown",
   "metadata": {},
   "source": [
    "#### Try to unstand the index and columns of df in order to control the x and y labels in heatmap "
   ]
  },
  {
   "cell_type": "code",
   "execution_count": 58,
   "metadata": {},
   "outputs": [
    {
     "data": {
      "text/plain": [
       "Index(['ALX1_(+)', 'ALX3_(+)', 'AR_(+)', 'ARID3A_(+)', 'ASCL2_(+)', 'ATF1_(+)',\n",
       "       'ATF3_(+)', 'ATF4_(+)', 'ATF6_(+)', 'ATOH7_(+)',\n",
       "       ...\n",
       "       'ZNF572_(+)', 'ZNF585B_(+)', 'ZNF658_(+)', 'ZNF718_(+)', 'ZNF770_(+)',\n",
       "       'ZNF831_(+)', 'ZNF84_(+)', 'ZNF91_(+)', 'ZNF93_(+)', 'ZSCAN32_(+)'],\n",
       "      dtype='object', length=384)"
      ]
     },
     "execution_count": 58,
     "metadata": {},
     "output_type": "execute_result"
    }
   ],
   "source": [
    "binary_mtx.T.index"
   ]
  },
  {
   "cell_type": "code",
   "execution_count": null,
   "metadata": {},
   "outputs": [],
   "source": [
    "binary_mtx.index"
   ]
  },
  {
   "cell_type": "code",
   "execution_count": null,
   "metadata": {},
   "outputs": [],
   "source": []
  },
  {
   "cell_type": "code",
   "execution_count": null,
   "metadata": {},
   "outputs": [],
   "source": []
  },
  {
   "cell_type": "code",
   "execution_count": 33,
   "metadata": {},
   "outputs": [],
   "source": [
    "import operator as op"
   ]
  },
  {
   "cell_type": "code",
   "execution_count": 30,
   "metadata": {},
   "outputs": [],
   "source": [
    "BASE_URL = \"http://motifcollections.aertslab.org/v9/logos/\"\n",
    "COLUMN_NAME_LOGO = \"MotifLogo\"\n",
    "COLUMN_NAME_MOTIF_ID = \"MotifID\"\n",
    "COLUMN_NAME_TARGETS = \"TargetGenes\""
   ]
  },
  {
   "cell_type": "code",
   "execution_count": 31,
   "metadata": {},
   "outputs": [],
   "source": [
    "def fetch_logo(regulon, base_url = BASE_URL):\n",
    "    for elem in regulon.context:\n",
    "        if elem.endswith('.png'):\n",
    "            return '<img src=\"{}{}\" style=\"max-height:124px;\"></img>'.format(base_url, elem)\n",
    "    return \"\""
   ]
  },
  {
   "cell_type": "code",
   "execution_count": null,
   "metadata": {},
   "outputs": [],
   "source": []
  },
  {
   "cell_type": "code",
   "execution_count": null,
   "metadata": {},
   "outputs": [],
   "source": [
    "df_regulons = pd.DataFrame(data=[list(map(op.attrgetter('name'), regulons)),\n",
    "                                 list(map(len, regulons)),\n",
    "                                 list(map(fetch_logo, regulons))], index=['name', 'count', 'logo']).T"
   ]
  }
 ],
 "metadata": {
  "kernelspec": {
   "display_name": "Python 3.9.4 64-bit ('3.9.4')",
   "name": "python394jvsc74a57bd08ba08c29130bd93d4fcfc6d5cf47d7c842ebf4c068c151596071e214c406c51f"
  },
  "language_info": {
   "name": "python",
   "version": ""
  },
  "metadata": {
   "interpreter": {
    "hash": "8ba08c29130bd93d4fcfc6d5cf47d7c842ebf4c068c151596071e214c406c51f"
   }
  }
 },
 "nbformat": 4,
 "nbformat_minor": 5
}