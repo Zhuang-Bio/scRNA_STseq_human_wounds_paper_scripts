{
 "cells": [
  {
   "cell_type": "markdown",
   "id": "ccb5c688",
   "metadata": {},
   "source": [
    "# The detailed parameters of pySCENIC"
   ]
  },
  {
   "cell_type": "code",
   "execution_count": 18,
   "id": "c1fb7f6f",
   "metadata": {},
   "outputs": [],
   "source": [
    "# import dependencies\n",
    "import os,sys\n",
    "import numpy as np\n",
    "import pandas as pd\n",
    "import scanpy as sc\n",
    "import loompy as lp\n",
    "import anndata as ad\n",
    "from MulticoreTSNE import MulticoreTSNE as TSNE\n",
    "import seaborn as sns\n",
    "import matplotlib.pyplot as plt"
   ]
  },
  {
   "cell_type": "code",
   "execution_count": 38,
   "id": "ba634d66",
   "metadata": {},
   "outputs": [],
   "source": [
    "# path to unfiltered loom file (this will be created in the optional steps below)\n",
    "f_loom_path_unfilt = \"hswound_pySCENIC.loom\" # "
   ]
  },
  {
   "cell_type": "code",
   "execution_count": 36,
   "id": "ba250235",
   "metadata": {},
   "outputs": [],
   "source": [
    "# adata from tajrctory step\n",
    "adata=sc.read_h5ad('/Users/zhuliu/Desktop/scRNA_STseq/proj_10X_woundhealing/03_results/01-Seurat-PreAnalysis/02_Seurat_BatchCorrection/s2_Seurat_allSample_subclustering/pySCENIC/allNew_scanpy_subkeratins.h5ad')"
   ]
  },
  {
   "cell_type": "code",
   "execution_count": 37,
   "id": "009d06e2",
   "metadata": {},
   "outputs": [
    {
     "data": {
      "text/plain": [
       "AnnData object with n_obs × n_vars = 27105 × 25778\n",
       "    obs: 'orig.ident', 'nCount_RNA', 'nFeature_RNA', 'Patient', 'Gender', 'Age', 'Condition', 'Doublet', 'percent.mt', 'percent.ribo', 'percent.hb', 'percent.malat1', 'S.Score', 'G2M.Score', 'Phase', 'CC.Difference', 'MainCellTypes', 'SubCellTypes', 'SCT_snn_res.0.8', 'seurat_clusters', 'SCT_snn_res.0.5', 'SCT_snn_res.1', 'CellTypes', 'mig_score1', 'monocle3_pseudotime', 'UMAP_1', 'UMAP_2'\n",
       "    uns: 'CellTypes_colors', 'Condition_colors', 'seurat_clusters_colors'\n",
       "    obsm: 'X_harmony', 'X_pca', 'X_umap'"
      ]
     },
     "execution_count": 37,
     "metadata": {},
     "output_type": "execute_result"
    }
   ],
   "source": [
    "adata"
   ]
  },
  {
   "cell_type": "code",
   "execution_count": 42,
   "id": "742db287",
   "metadata": {},
   "outputs": [],
   "source": [
    "row_attrs = { \n",
    "    \"Gene\": np.array(adata.var.index) ,\n",
    "}\n",
    "col_attrs = { \n",
    "    \"CellID\": np.array(adata.obs.index) ,\n",
    "    \"nGene\": np.array( np.sum(adata.X.transpose()>0 , axis=0)).flatten() ,\n",
    "    \"nUMI\": np.array( np.sum(adata.X.transpose() , axis=0)).flatten() ,\n",
    "    \"orig.ident\": np.array(adata.obs['orig.ident']).flatten() ,\n",
    "    \"Condition\": np.array(adata.obs['Condition']).flatten() ,\n",
    "    \"percent.mt\": np.array(adata.obs['percent.mt']).flatten() ,\n",
    "    \"CellTypes\": np.array(adata.obs['CellTypes']).flatten() ,\n",
    "    \n",
    "}\n",
    "\n",
    "lp.create(f_loom_path_unfilt, adata.X.transpose(), row_attrs, col_attrs)"
   ]
  },
  {
   "cell_type": "code",
   "execution_count": 43,
   "id": "77c2c00a",
   "metadata": {},
   "outputs": [],
   "source": [
    "adata = sc.read_loom('hswound_pySCENIC.loom')"
   ]
  },
  {
   "cell_type": "markdown",
   "id": "af48b7c0",
   "metadata": {},
   "source": [
    "# Step 1. Phase Ia: GRN inference using the GRNBoost2 algorithm"
   ]
  },
  {
   "cell_type": "code",
   "execution_count": 2,
   "id": "690c7df3",
   "metadata": {
    "scrolled": false
   },
   "outputs": [
    {
     "name": "stdout",
     "output_type": "stream",
     "text": [
      "OMP: Info #270: omp_set_nested routine deprecated, please use omp_set_max_active_levels instead.\n",
      "usage: pyscenic grn [-h] [-o OUTPUT] [-t] [-m {genie3,grnboost2}]\n",
      "                    [--seed SEED] [--num_workers NUM_WORKERS]\n",
      "                    [--client_or_address CLIENT_OR_ADDRESS]\n",
      "                    [--cell_id_attribute CELL_ID_ATTRIBUTE]\n",
      "                    [--gene_attribute GENE_ATTRIBUTE] [--sparse]\n",
      "                    expression_mtx_fname tfs_fname\n",
      "\n",
      "positional arguments:\n",
      "  expression_mtx_fname  The name of the file that contains the expression\n",
      "                        matrix for the single cell experiment. Two file\n",
      "                        formats are supported: csv (rows=cells x\n",
      "                        columns=genes) or loom (rows=genes x columns=cells).\n",
      "  tfs_fname             The name of the file that contains the list of\n",
      "                        transcription factors (TXT; one TF per line).\n",
      "\n",
      "optional arguments:\n",
      "  -h, --help            show this help message and exit\n",
      "  -o OUTPUT, --output OUTPUT\n",
      "                        Output file/stream, i.e. a table of TF-target genes\n",
      "                        (CSV).\n",
      "  -t, --transpose       Transpose the expression matrix (rows=genes x\n",
      "                        columns=cells).\n",
      "  -m {genie3,grnboost2}, --method {genie3,grnboost2}\n",
      "                        The algorithm for gene regulatory network\n",
      "                        reconstruction (default: grnboost2).\n",
      "  --seed SEED           Seed value for regressor random state initialization.\n",
      "                        Applies to both GENIE3 and GRNBoost2. The default is\n",
      "                        to use a random seed.\n",
      "\n",
      "computation arguments:\n",
      "  --num_workers NUM_WORKERS\n",
      "                        The number of workers to use. Only valid if using\n",
      "                        dask_multiprocessing, custom_multiprocessing or local\n",
      "                        as mode. (default: 12).\n",
      "  --client_or_address CLIENT_OR_ADDRESS\n",
      "                        The client or the IP address of the dask scheduler to\n",
      "                        use. (Only required of dask_cluster is selected as\n",
      "                        mode)\n",
      "\n",
      "loom file arguments:\n",
      "  --cell_id_attribute CELL_ID_ATTRIBUTE\n",
      "                        The name of the column attribute that specifies the\n",
      "                        identifiers of the cells in the loom file.\n",
      "  --gene_attribute GENE_ATTRIBUTE\n",
      "                        The name of the row attribute that specifies the gene\n",
      "                        symbols in the loom file.\n",
      "  --sparse              If set, load the expression data as a sparse matrix.\n",
      "                        Currently applies to the grn inference step only.\n"
     ]
    }
   ],
   "source": [
    "!pyscenic grn -h"
   ]
  },
  {
   "cell_type": "code",
   "execution_count": 1,
   "id": "66384ae3",
   "metadata": {
    "scrolled": false
   },
   "outputs": [],
   "source": [
    "!pyscenic grn {mice_loom_file} {mice_tfs} -o mice_adj.csv -m grnboost2 --num_workers 8 "
   ]
  },
  {
   "cell_type": "code",
   "execution_count": null,
   "id": "78ec7724",
   "metadata": {},
   "outputs": [],
   "source": [
    "mice_adjacencies = pd.read_csv(\"mice_adj.tsv\", index_col=False, sep='\\t')\n",
    "mice_adjacencies.head()"
   ]
  },
  {
   "cell_type": "markdown",
   "id": "591cf59c",
   "metadata": {},
   "source": [
    "# Step 2-3. Regulon prediction aka cisTarget from CLI"
   ]
  },
  {
   "cell_type": "code",
   "execution_count": 3,
   "id": "0e7c301a",
   "metadata": {
    "scrolled": false
   },
   "outputs": [
    {
     "name": "stdout",
     "output_type": "stream",
     "text": [
      "OMP: Info #270: omp_set_nested routine deprecated, please use omp_set_max_active_levels instead.\n",
      "usage: pyscenic ctx [-h] [-o OUTPUT] [-n] [--chunk_size CHUNK_SIZE]\n",
      "                    [--mode {custom_multiprocessing,dask_multiprocessing,dask_cluster}]\n",
      "                    [-a] [-t] [--rank_threshold RANK_THRESHOLD]\n",
      "                    [--auc_threshold AUC_THRESHOLD]\n",
      "                    [--nes_threshold NES_THRESHOLD]\n",
      "                    [--min_orthologous_identity MIN_ORTHOLOGOUS_IDENTITY]\n",
      "                    [--max_similarity_fdr MAX_SIMILARITY_FDR]\n",
      "                    --annotations_fname ANNOTATIONS_FNAME\n",
      "                    [--num_workers NUM_WORKERS]\n",
      "                    [--client_or_address CLIENT_OR_ADDRESS]\n",
      "                    [--thresholds THRESHOLDS [THRESHOLDS ...]]\n",
      "                    [--top_n_targets TOP_N_TARGETS [TOP_N_TARGETS ...]]\n",
      "                    [--top_n_regulators TOP_N_REGULATORS [TOP_N_REGULATORS ...]]\n",
      "                    [--min_genes MIN_GENES]\n",
      "                    [--expression_mtx_fname EXPRESSION_MTX_FNAME]\n",
      "                    [--mask_dropouts] [--cell_id_attribute CELL_ID_ATTRIBUTE]\n",
      "                    [--gene_attribute GENE_ATTRIBUTE] [--sparse]\n",
      "                    module_fname database_fname [database_fname ...]\n",
      "\n",
      "positional arguments:\n",
      "  module_fname          The name of the file that contains the signature or\n",
      "                        the co-expression modules. The following formats are\n",
      "                        supported: CSV or TSV (adjacencies), YAML, GMT and DAT\n",
      "                        (modules)\n",
      "  database_fname        The name(s) of the regulatory feature databases. Two\n",
      "                        file formats are supported: feather or db (legacy).\n",
      "\n",
      "optional arguments:\n",
      "  -h, --help            show this help message and exit\n",
      "  -o OUTPUT, --output OUTPUT\n",
      "                        Output file/stream, i.e. a table of enriched motifs\n",
      "                        and target genes (csv, tsv) or collection of regulons\n",
      "                        (yaml, gmt, dat, json).\n",
      "  -n, --no_pruning      Do not perform pruning, i.e. find enriched motifs.\n",
      "  --chunk_size CHUNK_SIZE\n",
      "                        The size of the module chunks assigned to a node in\n",
      "                        the dask graph (default: 100).\n",
      "  --mode {custom_multiprocessing,dask_multiprocessing,dask_cluster}\n",
      "                        The mode to be used for computing (default:\n",
      "                        dask_multiprocessing).\n",
      "  -a, --all_modules     Included positive and negative regulons in the\n",
      "                        analysis (default: no, i.e. only positive).\n",
      "  -t, --transpose       Transpose the expression matrix (rows=genes x\n",
      "                        columns=cells).\n",
      "\n",
      "motif enrichment arguments:\n",
      "  --rank_threshold RANK_THRESHOLD\n",
      "                        The rank threshold used for deriving the target genes\n",
      "                        of an enriched motif (default: 5000).\n",
      "  --auc_threshold AUC_THRESHOLD\n",
      "                        The threshold used for calculating the AUC of a\n",
      "                        feature as fraction of ranked genes (default: 0.05).\n",
      "  --nes_threshold NES_THRESHOLD\n",
      "                        The Normalized Enrichment Score (NES) threshold for\n",
      "                        finding enriched features (default: 3.0).\n",
      "\n",
      "motif annotation arguments:\n",
      "  --min_orthologous_identity MIN_ORTHOLOGOUS_IDENTITY\n",
      "                        Minimum orthologous identity to use when annotating\n",
      "                        enriched motifs (default: 0.0).\n",
      "  --max_similarity_fdr MAX_SIMILARITY_FDR\n",
      "                        Maximum FDR in motif similarity to use when annotating\n",
      "                        enriched motifs (default: 0.001).\n",
      "  --annotations_fname ANNOTATIONS_FNAME\n",
      "                        The name of the file that contains the motif\n",
      "                        annotations to use.\n",
      "\n",
      "computation arguments:\n",
      "  --num_workers NUM_WORKERS\n",
      "                        The number of workers to use. Only valid if using\n",
      "                        dask_multiprocessing, custom_multiprocessing or local\n",
      "                        as mode. (default: 12).\n",
      "  --client_or_address CLIENT_OR_ADDRESS\n",
      "                        The client or the IP address of the dask scheduler to\n",
      "                        use. (Only required of dask_cluster is selected as\n",
      "                        mode)\n",
      "\n",
      "module generation arguments:\n",
      "  --thresholds THRESHOLDS [THRESHOLDS ...]\n",
      "                        The first method to create the TF-modules based on the\n",
      "                        best targets for each transcription factor (default:\n",
      "                        0.75 0.90).\n",
      "  --top_n_targets TOP_N_TARGETS [TOP_N_TARGETS ...]\n",
      "                        The second method is to select the top targets for a\n",
      "                        given TF. (default: 50)\n",
      "  --top_n_regulators TOP_N_REGULATORS [TOP_N_REGULATORS ...]\n",
      "                        The alternative way to create the TF-modules is to\n",
      "                        select the best regulators for each gene. (default: 5\n",
      "                        10 50)\n",
      "  --min_genes MIN_GENES\n",
      "                        The minimum number of genes in a module (default: 20).\n",
      "  --expression_mtx_fname EXPRESSION_MTX_FNAME\n",
      "                        The name of the file that contains the expression\n",
      "                        matrix for the single cell experiment. Two file\n",
      "                        formats are supported: csv (rows=cells x\n",
      "                        columns=genes) or loom (rows=genes x columns=cells).\n",
      "                        (Only required if modules need to be generated)\n",
      "  --mask_dropouts       If modules need to be generated, this controls whether\n",
      "                        cell dropouts (cells in which expression of either TF\n",
      "                        or target gene is 0) are masked when calculating the\n",
      "                        correlation between a TF-target pair. This affects\n",
      "                        which target genes are included in the initial\n",
      "                        modules, and the final pruned regulon (by default only\n",
      "                        positive regulons are kept (see --all_modules\n",
      "                        option)). The default value in pySCENIC 0.9.16 and\n",
      "                        previous versions was to mask dropouts when\n",
      "                        calculating the correlation; however, all cells are\n",
      "                        now kept by default, to match the R version.\n",
      "\n",
      "loom file arguments:\n",
      "  --cell_id_attribute CELL_ID_ATTRIBUTE\n",
      "                        The name of the column attribute that specifies the\n",
      "                        identifiers of the cells in the loom file.\n",
      "  --gene_attribute GENE_ATTRIBUTE\n",
      "                        The name of the row attribute that specifies the gene\n",
      "                        symbols in the loom file.\n",
      "  --sparse              If set, load the expression data as a sparse matrix.\n",
      "                        Currently applies to the grn inference step only.\n"
     ]
    }
   ],
   "source": [
    "!pyscenic ctx -h"
   ]
  },
  {
   "cell_type": "code",
   "execution_count": 1,
   "id": "eae6b434",
   "metadata": {},
   "outputs": [],
   "source": [
    "import glob\n",
    "# ranking databases\n",
    "f_db_glob = \"*feather\"\n",
    "f_db_names = ' '.join(glob.glob(f_db_glob))\n",
    "\n",
    "# motif databases\n",
    "f_motif_path = \"motifs-v9-nr.mgi-m0.001-o0.0.tbl\""
   ]
  },
  {
   "cell_type": "code",
   "execution_count": 2,
   "id": "acc44aba",
   "metadata": {},
   "outputs": [
    {
     "name": "stdout",
     "output_type": "stream",
     "text": [
      "mm10__refseq-r80__500bp_up_and_100bp_down_tss.mc9nr.feather mm10__refseq-r80__10kb_up_and_down_tss.mc9nr.feather\n",
      "motifs-v9-nr.mgi-m0.001-o0.0.tbl\n"
     ]
    }
   ],
   "source": [
    "print(f_db_names)\n",
    "print(f_motif_path)"
   ]
  },
  {
   "cell_type": "code",
   "execution_count": null,
   "id": "ebc46d3d",
   "metadata": {},
   "outputs": [],
   "source": [
    "!pyscenic ctx \\\n",
    "mice_adj.tsv \\\n",
    "{f_db_names} \\\n",
    "--annotations_fname {f_motif_path} \\\n",
    "--expression_mtx_fname {mice_loom_file} \\\n",
    "--output mice_reg.csv \\\n",
    "--mask_dropouts \\\n",
    "--num_workers 8"
   ]
  },
  {
   "cell_type": "markdown",
   "id": "f81f0856",
   "metadata": {},
   "source": [
    "# Step 4. Cellular enrichment (aka AUCell) from CLI"
   ]
  },
  {
   "cell_type": "code",
   "execution_count": 4,
   "id": "25339a8c",
   "metadata": {},
   "outputs": [
    {
     "name": "stdout",
     "output_type": "stream",
     "text": [
      "OMP: Info #270: omp_set_nested routine deprecated, please use omp_set_max_active_levels instead.\n",
      "usage: pyscenic aucell [-h] [-o OUTPUT] [-t] [-w] [--num_workers NUM_WORKERS]\n",
      "                       [--seed SEED] [--rank_threshold RANK_THRESHOLD]\n",
      "                       [--auc_threshold AUC_THRESHOLD]\n",
      "                       [--nes_threshold NES_THRESHOLD]\n",
      "                       [--cell_id_attribute CELL_ID_ATTRIBUTE]\n",
      "                       [--gene_attribute GENE_ATTRIBUTE] [--sparse]\n",
      "                       expression_mtx_fname signatures_fname\n",
      "\n",
      "positional arguments:\n",
      "  expression_mtx_fname  The name of the file that contains the expression\n",
      "                        matrix for the single cell experiment. Two file\n",
      "                        formats are supported: csv (rows=cells x\n",
      "                        columns=genes) or loom (rows=genes x columns=cells).\n",
      "  signatures_fname      The name of the file that contains the gene\n",
      "                        signatures. Three file formats are supported: gmt,\n",
      "                        yaml or dat (pickle).\n",
      "\n",
      "optional arguments:\n",
      "  -h, --help            show this help message and exit\n",
      "  -o OUTPUT, --output OUTPUT\n",
      "                        Output file/stream, a matrix of AUC values. Two file\n",
      "                        formats are supported: csv or loom. If loom file is\n",
      "                        specified the loom file while contain the original\n",
      "                        expression matrix and the calculated AUC values as\n",
      "                        extra column attributes.\n",
      "  -t, --transpose       Transpose the expression matrix if supplied as csv\n",
      "                        (rows=genes x columns=cells).\n",
      "  -w, --weights         Use weights associated with genes in recovery\n",
      "                        analysis. Is only relevant when gene signatures are\n",
      "                        supplied as json format.\n",
      "  --num_workers NUM_WORKERS\n",
      "                        The number of workers to use (default: 12).\n",
      "  --seed SEED           Seed for the expression matrix ranking step. The\n",
      "                        default is to use a random seed.\n",
      "\n",
      "motif enrichment arguments:\n",
      "  --rank_threshold RANK_THRESHOLD\n",
      "                        The rank threshold used for deriving the target genes\n",
      "                        of an enriched motif (default: 5000).\n",
      "  --auc_threshold AUC_THRESHOLD\n",
      "                        The threshold used for calculating the AUC of a\n",
      "                        feature as fraction of ranked genes (default: 0.05).\n",
      "  --nes_threshold NES_THRESHOLD\n",
      "                        The Normalized Enrichment Score (NES) threshold for\n",
      "                        finding enriched features (default: 3.0).\n",
      "\n",
      "loom file arguments:\n",
      "  --cell_id_attribute CELL_ID_ATTRIBUTE\n",
      "                        The name of the column attribute that specifies the\n",
      "                        identifiers of the cells in the loom file.\n",
      "  --gene_attribute GENE_ATTRIBUTE\n",
      "                        The name of the row attribute that specifies the gene\n",
      "                        symbols in the loom file.\n",
      "  --sparse              If set, load the expression data as a sparse matrix.\n",
      "                        Currently applies to the grn inference step only.\n"
     ]
    }
   ],
   "source": [
    "!pyscenic aucell -h"
   ]
  },
  {
   "cell_type": "code",
   "execution_count": null,
   "id": "5ecbac8b",
   "metadata": {},
   "outputs": [],
   "source": [
    "!pyscenic aucell \\\n",
    "{mice_loom_file} \\\n",
    "mice_reg.csv \\\n",
    "--output mice_SCENIC_AUC.loom \\\n",
    "--num_workers 8"
   ]
  },
  {
   "cell_type": "markdown",
   "id": "bc9d1a5a",
   "metadata": {},
   "source": [
    "# pySCENIC"
   ]
  },
  {
   "cell_type": "code",
   "execution_count": 6,
   "id": "1444361f",
   "metadata": {},
   "outputs": [
    {
     "name": "stdout",
     "output_type": "stream",
     "text": [
      "OMP: Info #270: omp_set_nested routine deprecated, please use omp_set_max_active_levels instead.\n",
      "usage: pyscenic [-h] {grn,add_cor,ctx,aucell} ...\n",
      "\n",
      "Single-CEll regulatory Network Inference and Clustering (0.11.2)\n",
      "\n",
      "positional arguments:\n",
      "  {grn,add_cor,ctx,aucell}\n",
      "                        sub-command help\n",
      "    grn                 Derive co-expression modules from expression matrix.\n",
      "    add_cor             [Optional] Add Pearson correlations based on TF-gene\n",
      "                        expression to the network adjacencies output from the\n",
      "                        GRN step, and output these to a new adjacencies file.\n",
      "                        This will normally be done during the \"ctx\" step.\n",
      "    ctx                 Find enriched motifs for a gene signature and\n",
      "                        optionally prune targets from this signature based on\n",
      "                        cis-regulatory cues.\n",
      "    aucell              Quantify activity of gene signatures across single\n",
      "                        cells.\n",
      "\n",
      "optional arguments:\n",
      "  -h, --help            show this help message and exit\n",
      "\n",
      "Arguments can be read from file using a @args.txt construct. For more\n",
      "information on loom file format see http://loompy.org . For more information\n",
      "on gmt file format see https://software.broadinstitute.org/cancer/software/gse\n",
      "a/wiki/index.php/Data_formats .\n"
     ]
    }
   ],
   "source": [
    "!pyscenic"
   ]
  },
  {
   "cell_type": "markdown",
   "id": "5ed1b745",
   "metadata": {},
   "source": [
    "# pySCENIC add_cor"
   ]
  },
  {
   "cell_type": "code",
   "execution_count": 8,
   "id": "bb1defa7",
   "metadata": {},
   "outputs": [
    {
     "name": "stdout",
     "output_type": "stream",
     "text": [
      "OMP: Info #270: omp_set_nested routine deprecated, please use omp_set_max_active_levels instead.\n",
      "usage: pyscenic add_cor [-h] [-o OUTPUT] [-t]\n",
      "                        [--cell_id_attribute CELL_ID_ATTRIBUTE]\n",
      "                        [--gene_attribute GENE_ATTRIBUTE] [--sparse]\n",
      "                        [--thresholds THRESHOLDS [THRESHOLDS ...]]\n",
      "                        [--top_n_targets TOP_N_TARGETS [TOP_N_TARGETS ...]]\n",
      "                        [--top_n_regulators TOP_N_REGULATORS [TOP_N_REGULATORS ...]]\n",
      "                        [--min_genes MIN_GENES]\n",
      "                        [--expression_mtx_fname EXPRESSION_MTX_FNAME]\n",
      "                        [--mask_dropouts]\n",
      "                        adjacencies expression_mtx_fname\n",
      "\n",
      "positional arguments:\n",
      "  adjacencies           The name of the file that contains the GRN adjacencies\n",
      "                        (output from the GRN step).\n",
      "  expression_mtx_fname  The name of the file that contains the expression\n",
      "                        matrix for the single cell experiment. Two file\n",
      "                        formats are supported: csv (rows=cells x\n",
      "                        columns=genes) or loom (rows=genes x columns=cells).\n",
      "\n",
      "optional arguments:\n",
      "  -h, --help            show this help message and exit\n",
      "  -o OUTPUT, --output OUTPUT\n",
      "                        Output file/stream, i.e. the adjacencies table with\n",
      "                        correlations (csv, tsv).\n",
      "  -t, --transpose       Transpose the expression matrix (rows=genes x\n",
      "                        columns=cells).\n",
      "\n",
      "loom file arguments:\n",
      "  --cell_id_attribute CELL_ID_ATTRIBUTE\n",
      "                        The name of the column attribute that specifies the\n",
      "                        identifiers of the cells in the loom file.\n",
      "  --gene_attribute GENE_ATTRIBUTE\n",
      "                        The name of the row attribute that specifies the gene\n",
      "                        symbols in the loom file.\n",
      "  --sparse              If set, load the expression data as a sparse matrix.\n",
      "                        Currently applies to the grn inference step only.\n",
      "\n",
      "module generation arguments:\n",
      "  --thresholds THRESHOLDS [THRESHOLDS ...]\n",
      "                        The first method to create the TF-modules based on the\n",
      "                        best targets for each transcription factor (default:\n",
      "                        0.75 0.90).\n",
      "  --top_n_targets TOP_N_TARGETS [TOP_N_TARGETS ...]\n",
      "                        The second method is to select the top targets for a\n",
      "                        given TF. (default: 50)\n",
      "  --top_n_regulators TOP_N_REGULATORS [TOP_N_REGULATORS ...]\n",
      "                        The alternative way to create the TF-modules is to\n",
      "                        select the best regulators for each gene. (default: 5\n",
      "                        10 50)\n",
      "  --min_genes MIN_GENES\n",
      "                        The minimum number of genes in a module (default: 20).\n",
      "  --expression_mtx_fname EXPRESSION_MTX_FNAME\n",
      "                        The name of the file that contains the expression\n",
      "                        matrix for the single cell experiment. Two file\n",
      "                        formats are supported: csv (rows=cells x\n",
      "                        columns=genes) or loom (rows=genes x columns=cells).\n",
      "                        (Only required if modules need to be generated)\n",
      "  --mask_dropouts       If modules need to be generated, this controls whether\n",
      "                        cell dropouts (cells in which expression of either TF\n",
      "                        or target gene is 0) are masked when calculating the\n",
      "                        correlation between a TF-target pair. This affects\n",
      "                        which target genes are included in the initial\n",
      "                        modules, and the final pruned regulon (by default only\n",
      "                        positive regulons are kept (see --all_modules\n",
      "                        option)). The default value in pySCENIC 0.9.16 and\n",
      "                        previous versions was to mask dropouts when\n",
      "                        calculating the correlation; however, all cells are\n",
      "                        now kept by default, to match the R version.\n"
     ]
    }
   ],
   "source": [
    "!pyscenic add_cor -h"
   ]
  }
 ],
 "metadata": {
  "kernelspec": {
   "display_name": "pyscenic",
   "language": "python",
   "name": "pyscenic"
  },
  "language_info": {
   "codemirror_mode": {
    "name": "ipython",
    "version": 3
   },
   "file_extension": ".py",
   "mimetype": "text/x-python",
   "name": "python",
   "nbconvert_exporter": "python",
   "pygments_lexer": "ipython3",
   "version": "3.7.10"
  }
 },
 "nbformat": 4,
 "nbformat_minor": 5
}
