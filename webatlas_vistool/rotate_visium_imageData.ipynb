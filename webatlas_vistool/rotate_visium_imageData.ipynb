{
 "cells": [
  {
   "cell_type": "code",
   "execution_count": null,
   "metadata": {},
   "outputs": [],
   "source": [
    "import os\n",
    "import anndata as ad\n",
    "import numpy as np\n",
    "import scanpy as sc\n",
    "from PIL import Image\n",
    "\n",
    "Image.MAX_IMAGE_PIXELS = 1000000000"
   ]
  },
  {
   "cell_type": "code",
   "execution_count": null,
   "metadata": {},
   "outputs": [],
   "source": [
    "def rotate_image(image_path: str, degrees: int, outdir: str):\n",
    "    im = Image.open(image_path)\n",
    "    rot_im = im.rotate(-degrees, expand=1)\n",
    "\n",
    "    suffix = f\"-rotated_{degrees}\"\n",
    "    fname, ext = os.path.splitext(os.path.basename(image_path))\n",
    "    rot_im.save(os.path.join(outdir, fname + suffix + ext))\n",
    "\n",
    "\n",
    "def rotate_anndata(anndata_path: str, degrees: int, outdir: str):\n",
    "    adata = ad.read(anndata_path)\n",
    "    for sample in adata.uns[\"spatial\"].keys():\n",
    "        hiresfactor = adata.uns[\"spatial\"][sample][\"scalefactors\"][\n",
    "            \"tissue_hires_scalef\"\n",
    "        ]\n",
    "        n, m, _ = adata.uns[\"spatial\"][sample][\"images\"][\"hires\"].shape\n",
    "        m = int(m / hiresfactor)\n",
    "        n = int(n / hiresfactor)\n",
    "\n",
    "        rot_spatial = []\n",
    "        for [x, y] in adata.obsm[\"spatial\"]:\n",
    "            if degrees == 90:\n",
    "                rot_spatial.append([n - y, x])\n",
    "            elif degrees == 180:\n",
    "                rot_spatial.append([m - x, n - y])\n",
    "            elif degrees == 270:\n",
    "                rot_spatial.append([y, m - x])\n",
    "\n",
    "        adata.obsm[\"spatial\"] = np.array(rot_spatial)\n",
    "\n",
    "        hires = adata.uns[\"spatial\"][sample][\"images\"][\"hires\"]\n",
    "        rot_hires = np.rot90(hires, k=degrees / 90, axes=(1, 0))\n",
    "        adata.uns[\"spatial\"][sample][\"images\"][\"hires\"] = rot_hires\n",
    "\n",
    "        lowres = adata.uns[\"spatial\"][sample][\"images\"][\"lowres\"]\n",
    "        rot_lowres = np.rot90(lowres, k=degrees / 90, axes=(1, 0))\n",
    "        adata.uns[\"spatial\"][sample][\"images\"][\"lowres\"] = rot_lowres\n",
    "\n",
    "    suffix = f\"-rotated_{degrees}\"\n",
    "    fname, ext = os.path.splitext(os.path.basename(anndata_path))\n",
    "    adata.write_h5ad(os.path.join(outdir, fname + suffix + ext))\n",
    "\n",
    "\n",
    "def rotate(\n",
    "    anndata_path: str = None,\n",
    "    image_path: str = None,\n",
    "    degrees: int = 90,\n",
    "    outdir: str = \"./\",\n",
    "):\n",
    "    if anndata_path:\n",
    "        rotate_anndata(anndata_path, degrees, outdir)\n",
    "    if image_path:\n",
    "        rotate_image(image_path, degrees, outdir)\n",
    "    return"
   ]
  },
  {
   "cell_type": "code",
   "execution_count": null,
   "metadata": {},
   "outputs": [],
   "source": [
    "outdir = \"./\"\n",
    "data = [\n",
    "    {\n",
    "        \"anndata_path\": \"/path/to/anndata.h5ad\",\n",
    "        \"image_path\": \"/path/to/image.tiff\",\n",
    "        \"degrees\": 90, # 90, 180 or 270\n",
    "    }\n",
    "]"
   ]
  },
  {
   "cell_type": "code",
   "execution_count": null,
   "metadata": {},
   "outputs": [],
   "source": [
    "for item in data:\n",
    "    rotate(**item, outdir=outdir)"
   ]
  }
 ],
 "metadata": {
  "language_info": {
   "name": "python"
  }
 },
 "nbformat": 4,
 "nbformat_minor": 2
}
